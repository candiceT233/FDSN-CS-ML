{
 "cells": [
  {
   "cell_type": "markdown",
   "id": "d7864245",
   "metadata": {},
   "source": [
    "# Convert Excel files to CSV"
   ]
  },
  {
   "cell_type": "code",
   "execution_count": 186,
   "id": "5fb32e8b",
   "metadata": {
    "scrolled": true
   },
   "outputs": [],
   "source": [
    "import pandas as pd\n",
    "import os\n",
    "\n",
    "# Get the current working directory\n",
    "directory = os.getcwd()\n",
    "\n",
    "# Loop through all files in the directory\n",
    "for filename in os.listdir(directory):\n",
    "    if filename.endswith('.xlsx') or filename.endswith('.xls'):\n",
    "        # Print the name of the file\n",
    "        print(f\"Converting {filename}...\")\n",
    "        # Read the Excel file and skip the first row\n",
    "        file_path = os.path.join(directory, filename)\n",
    "        df = pd.read_excel(file_path, header=1)\n",
    "        \n",
    "        # Convert to CSV\n",
    "        csv_filename = filename.replace('.xlsx', '.csv').replace('.xls', '.csv')\n",
    "        csv_path = os.path.join(directory, csv_filename)\n",
    "        df.to_csv(csv_path, index=False)\n",
    "        \n",
    "        print(f\"Successfully converted {filename} to {csv_filename}.\")\n",
    "\n",
    "print(\"All Excel files converted to CSV.\")\n"
   ]
  },
  {
   "cell_type": "markdown",
   "id": "7c086a0b",
   "metadata": {},
   "source": [
    "# Merge Keys"
   ]
  },
  {
   "cell_type": "code",
   "execution_count": 137,
   "id": "f2d4748d",
   "metadata": {},
   "outputs": [
    {
     "name": "stdout",
     "output_type": "stream",
     "text": [
      "Successfully merged and saved the data to 'merged_data.csv'.\n"
     ]
    }
   ],
   "source": [
    "##merge keys\n",
    "import pandas as pd\n",
    "\n",
    "# Read the first Excel file\n",
    "df1 = pd.read_excel('key/Data_Key_Map_IJ.xlsx')\n",
    "\n",
    "# Read the second Excel file\n",
    "df2 = pd.read_excel('key/Data_Key-Map_Anushka_Chaubal.xlsx')\n",
    "\n",
    "# Merge the two dataframes\n",
    "merged_data = pd.concat([df1, df2], ignore_index=True)\n",
    "\n",
    "# Convert the merged data to CSV\n",
    "merged_data.to_csv('key/key.csv', index=False)\n",
    "\n",
    "print(\"Successfully merged and saved the data to 'merged_data.csv'.\")\n"
   ]
  },
  {
   "cell_type": "markdown",
   "id": "df6ea78b",
   "metadata": {},
   "source": [
    "# Dictionary of key for name_mapping"
   ]
  },
  {
   "cell_type": "code",
   "execution_count": 138,
   "id": "b790fed1",
   "metadata": {},
   "outputs": [],
   "source": [
    "import pandas as pd\n",
    "\n",
    "# Read the Key file and extract \"Alternate Name\" and \"Column Name\" columns\n",
    "df2 = pd.read_csv('key/key.csv', usecols=['Alternate Name', 'Column Name'])\n",
    "\n",
    "# Drop rows with NaN values in \"Alternate Name\" column\n",
    "df2.dropna(subset=['Alternate Name'], inplace=True)\n",
    "\n",
    "# Create a dictionary mapping \"Alternate Name\" to \"Column Name\"\n",
    "name_mapping = dict(zip(df2['Alternate Name'], df2['Column Name']))\n",
    "\n",
    "def break_keys(name_mapping):\n",
    "    new_dict = {}\n",
    "    for key, value in name_mapping.items():\n",
    "        if pd.notnull(key):  # Check if the key is not NaN\n",
    "            words = [word.strip() for word in str(key).split(\",\") if word.strip()]\n",
    "            for word in words:\n",
    "                new_dict[word] = value\n",
    "    return new_dict\n",
    "break_keys(name_mapping)"
   ]
  },
  {
   "cell_type": "markdown",
   "id": "30f8b74d",
   "metadata": {},
   "source": [
    "# main code and merging the files"
   ]
  },
  {
   "cell_type": "code",
   "execution_count": 187,
   "id": "9643087c",
   "metadata": {},
   "outputs": [
    {
     "name": "stderr",
     "output_type": "stream",
     "text": [
      "/var/folders/zd/xkwdctgd1wj8hshn6wqwqyqm0000gn/T/ipykernel_12638/143512663.py:29: DtypeWarning: Columns (1,3,9,10,11,16,18,19,23,24,25,26,42,56,57,58,61,62,63,64,65,66,75,76,77,78,113,123,124,127,185,188,189,192,195,197,198,201,204,210,213,217,225,234,238,240,243,247,248,249,251) have mixed types. Specify dtype option on import or set low_memory=False.\n",
      "  df = pd.read_csv(file_path)\n",
      "/var/folders/zd/xkwdctgd1wj8hshn6wqwqyqm0000gn/T/ipykernel_12638/143512663.py:29: DtypeWarning: Columns (0) have mixed types. Specify dtype option on import or set low_memory=False.\n",
      "  df = pd.read_csv(file_path)\n"
     ]
    }
   ],
   "source": [
    "import pandas as pd\n",
    "import os\n",
    "\n",
    "def break_keys(name_mapping):\n",
    "    new_dict = {}\n",
    "    for key, value in name_mapping.items():\n",
    "        words = [word.strip() for word in key.split(\",\") if word.strip()]\n",
    "        for word in words:\n",
    "            new_dict[word] = value\n",
    "    return new_dict\n",
    "\n",
    "# Get the current working directory\n",
    "directory = os.getcwd()\n",
    "\n",
    "# Initialize an empty dataframe to store the merged data\n",
    "merged_data = pd.DataFrame()\n",
    "\n",
    "# Specify the name mapping dictionary\n",
    "name_mapping = break_keys(name_mapping)\n",
    "\n",
    "# Generate the name mapping dictionary using break_keys\n",
    "name_mapping = break_keys(name_mapping)\n",
    "\n",
    "# Loop through all files in the directory\n",
    "for filename in os.listdir(directory):\n",
    "    if filename.endswith('.csv'):\n",
    "        # Read the CSV file\n",
    "        file_path = os.path.join(directory, filename)\n",
    "        df = pd.read_csv(file_path)\n",
    "        \n",
    "        # Rename the columns using the name mapping\n",
    "        column_mapping = break_keys(name_mapping)\n",
    "        df.rename(columns=column_mapping, inplace=True)\n",
    "        \n",
    "        # Store the renamed dataframe in the dictionary\n",
    "        renamed_dataframes[filename] = df\n",
    "        \n",
    "        # Merge the current dataframe with the merged data\n",
    "        merged_data = pd.concat([merged_data, df], ignore_index=True)\n",
    "\n",
    "# Print the merged dataframe\n",
    "print(\"Merged dataframe:\")\n",
    "print(merged_data)\n",
    "print(\"\\n\")\n",
    "#merged_data.fillna(0,inplace=True)\n",
    "merged_data.to_csv('df.csv', index=False)\n"
   ]
  },
  {
   "cell_type": "markdown",
   "id": "0d2042f3",
   "metadata": {},
   "source": [
    "# convert categorical data to numeric data"
   ]
  },
  {
   "cell_type": "code",
   "execution_count": 188,
   "id": "ad1397e3",
   "metadata": {
    "scrolled": true
   },
   "outputs": [],
   "source": [
    "import pandas as pd\n",
    "from sklearn.preprocessing import LabelEncoder\n",
    "\n",
    "def convert_categorical_to_numeric(dataframe):\n",
    "    # Identify categorical columns\n",
    "    categorical_columns = dataframe.select_dtypes(include=['object']).columns\n",
    "    print(categorical_columns)\n",
    "    \n",
    "    # Convert mixed-type columns to strings\n",
    "    for column in categorical_columns:\n",
    "        #if column!=\"Subject\":\n",
    "        dataframe[column] = dataframe[column].astype(str)\n",
    "\n",
    "    # Convert categorical columns to numeric\n",
    "    label_encoder = LabelEncoder()\n",
    "    for column in categorical_columns[1:]:\n",
    "        dataframe[column] = label_encoder.fit_transform(dataframe[column])\n",
    "\n",
    "    return dataframe\n",
    "merged_data.dropna(how='all', inplace=True)\n",
    "merged_data.fillna(0,inplace=True)\n",
    "merged_data=convert_categorical_to_numeric(merged_data)\n",
    "\n",
    "unnamed_columns = [col for col in merged_data.columns if col.startswith('Unnamed')]\n",
    "\n",
    "# Drop the identified columns\n",
    "merged_data.drop(unnamed_columns, axis=1, inplace=True)\n",
    "merged_data.to_csv('df.csv', index=False)"
   ]
  }
 ],
 "metadata": {
  "kernelspec": {
   "display_name": "Python 3 (ipykernel)",
   "language": "python",
   "name": "python3"
  },
  "language_info": {
   "codemirror_mode": {
    "name": "ipython",
    "version": 3
   },
   "file_extension": ".py",
   "mimetype": "text/x-python",
   "name": "python",
   "nbconvert_exporter": "python",
   "pygments_lexer": "ipython3",
   "version": "3.10.9"
  }
 },
 "nbformat": 4,
 "nbformat_minor": 5
}
