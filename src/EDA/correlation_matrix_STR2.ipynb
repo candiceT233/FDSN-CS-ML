{
 "cells": [
  {
   "cell_type": "code",
   "execution_count": 1,
   "metadata": {},
   "outputs": [],
   "source": [
    "#import libraries\n",
    "import os\n",
    "import pandas as pd\n",
    "from datetime import datetime\n",
    "import numpy as np\n",
    "import matplotlib.pyplot as plt\n",
    "from sklearn.preprocessing import LabelEncoder\n",
    "from sklearn.preprocessing import StandardScaler\n",
    "import seaborn as sns\n",
    "from sklearn.cluster import KMeans\n",
    "\n",
    "\n",
    "default_log_name='data_validation.log'\n",
    "onboarded_dir='../../data/processed/'\n",
    "onboarded_file='Merged_dataset.csv'\n",
    "le = LabelEncoder()"
   ]
  },
  {
   "cell_type": "code",
   "execution_count": 2,
   "metadata": {},
   "outputs": [
    {
     "name": "stderr",
     "output_type": "stream",
     "text": [
      "C:\\Users\\User\\AppData\\Local\\Temp\\ipykernel_19704\\342745817.py:2: DtypeWarning: Columns (1,3,9,10,11,16,18,19,23,24,25,26,42,56,57,58,61,62,63,64,65,66,75,76,77,78,113,123,124,127,185,188,189,192,195,197,198,201,204,210,213,217,225,234,238,240,243,247,248,249,251) have mixed types. Specify dtype option on import or set low_memory=False.\n",
      "  df = pd.read_csv(os.path.join(onboarded_dir, onboarded_file))\n"
     ]
    },
    {
     "data": {
      "text/plain": [
       "(11448, 314)"
      ]
     },
     "execution_count": 2,
     "metadata": {},
     "output_type": "execute_result"
    }
   ],
   "source": [
    "# read dataset\n",
    "df = pd.read_csv(os.path.join(onboarded_dir, onboarded_file))\n",
    "df.shape"
   ]
  },
  {
   "attachments": {},
   "cell_type": "markdown",
   "metadata": {},
   "source": [
    "## Describe Dataset"
   ]
  },
  {
   "cell_type": "code",
   "execution_count": 3,
   "metadata": {},
   "outputs": [
    {
     "data": {
      "text/html": [
       "<div>\n",
       "<style scoped>\n",
       "    .dataframe tbody tr th:only-of-type {\n",
       "        vertical-align: middle;\n",
       "    }\n",
       "\n",
       "    .dataframe tbody tr th {\n",
       "        vertical-align: top;\n",
       "    }\n",
       "\n",
       "    .dataframe thead th {\n",
       "        text-align: right;\n",
       "    }\n",
       "</style>\n",
       "<table border=\"1\" class=\"dataframe\">\n",
       "  <thead>\n",
       "    <tr style=\"text-align: right;\">\n",
       "      <th></th>\n",
       "      <th>Subject</th>\n",
       "      <th>Screening Number</th>\n",
       "      <th>Age</th>\n",
       "      <th>BMI</th>\n",
       "      <th>Ethnicity_1</th>\n",
       "      <th>Gender</th>\n",
       "      <th>Sequence</th>\n",
       "      <th>Tx</th>\n",
       "      <th>Visit</th>\n",
       "      <th>Time</th>\n",
       "      <th>...</th>\n",
       "      <th>PAA3OH</th>\n",
       "      <th>PAA4OH</th>\n",
       "      <th>PAAOCH</th>\n",
       "      <th>PPA3OCH4Oglc</th>\n",
       "      <th>PPA4OCH3Oglc</th>\n",
       "      <th>PPA4OH</th>\n",
       "      <th>PPAdiOH</th>\n",
       "      <th>PPAOCH</th>\n",
       "      <th>Unnamed: 9</th>\n",
       "      <th>Unnamed: 10</th>\n",
       "    </tr>\n",
       "  </thead>\n",
       "  <tbody>\n",
       "    <tr>\n",
       "      <th>0</th>\n",
       "      <td>COF1_17101</td>\n",
       "      <td>COF1_SC09</td>\n",
       "      <td>28.0</td>\n",
       "      <td>31.2</td>\n",
       "      <td>African American</td>\n",
       "      <td>F</td>\n",
       "      <td>COF-PCB</td>\n",
       "      <td>COF</td>\n",
       "      <td>PPD 1</td>\n",
       "      <td>0.0</td>\n",
       "      <td>...</td>\n",
       "      <td>NaN</td>\n",
       "      <td>NaN</td>\n",
       "      <td>NaN</td>\n",
       "      <td>NaN</td>\n",
       "      <td>NaN</td>\n",
       "      <td>NaN</td>\n",
       "      <td>NaN</td>\n",
       "      <td>NaN</td>\n",
       "      <td>NaN</td>\n",
       "      <td>NaN</td>\n",
       "    </tr>\n",
       "    <tr>\n",
       "      <th>1</th>\n",
       "      <td>COF1_17101</td>\n",
       "      <td>COF1_SC09</td>\n",
       "      <td>28.0</td>\n",
       "      <td>31.2</td>\n",
       "      <td>African American</td>\n",
       "      <td>F</td>\n",
       "      <td>COF-PCB</td>\n",
       "      <td>COF</td>\n",
       "      <td>PPD 1</td>\n",
       "      <td>40.0</td>\n",
       "      <td>...</td>\n",
       "      <td>NaN</td>\n",
       "      <td>NaN</td>\n",
       "      <td>NaN</td>\n",
       "      <td>NaN</td>\n",
       "      <td>NaN</td>\n",
       "      <td>NaN</td>\n",
       "      <td>NaN</td>\n",
       "      <td>NaN</td>\n",
       "      <td>NaN</td>\n",
       "      <td>NaN</td>\n",
       "    </tr>\n",
       "    <tr>\n",
       "      <th>2</th>\n",
       "      <td>COF1_17101</td>\n",
       "      <td>COF1_SC09</td>\n",
       "      <td>28.0</td>\n",
       "      <td>31.2</td>\n",
       "      <td>African American</td>\n",
       "      <td>F</td>\n",
       "      <td>COF-PCB</td>\n",
       "      <td>COF</td>\n",
       "      <td>PPD 1</td>\n",
       "      <td>120.0</td>\n",
       "      <td>...</td>\n",
       "      <td>NaN</td>\n",
       "      <td>NaN</td>\n",
       "      <td>NaN</td>\n",
       "      <td>NaN</td>\n",
       "      <td>NaN</td>\n",
       "      <td>NaN</td>\n",
       "      <td>NaN</td>\n",
       "      <td>NaN</td>\n",
       "      <td>NaN</td>\n",
       "      <td>NaN</td>\n",
       "    </tr>\n",
       "    <tr>\n",
       "      <th>3</th>\n",
       "      <td>COF1_17101</td>\n",
       "      <td>COF1_SC09</td>\n",
       "      <td>28.0</td>\n",
       "      <td>31.2</td>\n",
       "      <td>African American</td>\n",
       "      <td>F</td>\n",
       "      <td>COF-PCB</td>\n",
       "      <td>COF</td>\n",
       "      <td>PPD 1</td>\n",
       "      <td>180.0</td>\n",
       "      <td>...</td>\n",
       "      <td>NaN</td>\n",
       "      <td>NaN</td>\n",
       "      <td>NaN</td>\n",
       "      <td>NaN</td>\n",
       "      <td>NaN</td>\n",
       "      <td>NaN</td>\n",
       "      <td>NaN</td>\n",
       "      <td>NaN</td>\n",
       "      <td>NaN</td>\n",
       "      <td>NaN</td>\n",
       "    </tr>\n",
       "    <tr>\n",
       "      <th>4</th>\n",
       "      <td>COF1_17101</td>\n",
       "      <td>COF1_SC09</td>\n",
       "      <td>28.0</td>\n",
       "      <td>31.2</td>\n",
       "      <td>African American</td>\n",
       "      <td>F</td>\n",
       "      <td>COF-PCB</td>\n",
       "      <td>COF</td>\n",
       "      <td>PPD 1</td>\n",
       "      <td>240.0</td>\n",
       "      <td>...</td>\n",
       "      <td>NaN</td>\n",
       "      <td>NaN</td>\n",
       "      <td>NaN</td>\n",
       "      <td>NaN</td>\n",
       "      <td>NaN</td>\n",
       "      <td>NaN</td>\n",
       "      <td>NaN</td>\n",
       "      <td>NaN</td>\n",
       "      <td>NaN</td>\n",
       "      <td>NaN</td>\n",
       "    </tr>\n",
       "  </tbody>\n",
       "</table>\n",
       "<p>5 rows × 314 columns</p>\n",
       "</div>"
      ],
      "text/plain": [
       "      Subject Screening Number   Age   BMI       Ethnicity_1 Gender Sequence  \\\n",
       "0  COF1_17101        COF1_SC09  28.0  31.2  African American      F  COF-PCB   \n",
       "1  COF1_17101        COF1_SC09  28.0  31.2  African American      F  COF-PCB   \n",
       "2  COF1_17101        COF1_SC09  28.0  31.2  African American      F  COF-PCB   \n",
       "3  COF1_17101        COF1_SC09  28.0  31.2  African American      F  COF-PCB   \n",
       "4  COF1_17101        COF1_SC09  28.0  31.2  African American      F  COF-PCB   \n",
       "\n",
       "    Tx  Visit   Time  ... PAA3OH PAA4OH  PAAOCH  PPA3OCH4Oglc  PPA4OCH3Oglc  \\\n",
       "0  COF  PPD 1    0.0  ...    NaN    NaN     NaN           NaN           NaN   \n",
       "1  COF  PPD 1   40.0  ...    NaN    NaN     NaN           NaN           NaN   \n",
       "2  COF  PPD 1  120.0  ...    NaN    NaN     NaN           NaN           NaN   \n",
       "3  COF  PPD 1  180.0  ...    NaN    NaN     NaN           NaN           NaN   \n",
       "4  COF  PPD 1  240.0  ...    NaN    NaN     NaN           NaN           NaN   \n",
       "\n",
       "   PPA4OH PPAdiOH  PPAOCH Unnamed: 9 Unnamed: 10  \n",
       "0     NaN     NaN     NaN        NaN         NaN  \n",
       "1     NaN     NaN     NaN        NaN         NaN  \n",
       "2     NaN     NaN     NaN        NaN         NaN  \n",
       "3     NaN     NaN     NaN        NaN         NaN  \n",
       "4     NaN     NaN     NaN        NaN         NaN  \n",
       "\n",
       "[5 rows x 314 columns]"
      ]
     },
     "execution_count": 3,
     "metadata": {},
     "output_type": "execute_result"
    }
   ],
   "source": [
    "df.head()"
   ]
  },
  {
   "cell_type": "code",
   "execution_count": 4,
   "metadata": {},
   "outputs": [
    {
     "name": "stdout",
     "output_type": "stream",
     "text": [
      "<class 'pandas.core.frame.DataFrame'>\n",
      "RangeIndex: 11448 entries, 0 to 11447\n",
      "Columns: 314 entries, Subject to Unnamed: 10\n",
      "dtypes: float64(257), object(57)\n",
      "memory usage: 27.4+ MB\n"
     ]
    }
   ],
   "source": [
    "df.info()"
   ]
  },
  {
   "cell_type": "markdown",
   "metadata": {},
   "source": [
    "### Filter dataset by category\n",
    "#### Working with STR2 dataset"
   ]
  },
  {
   "cell_type": "code",
   "execution_count": 5,
   "metadata": {},
   "outputs": [
    {
     "data": {
      "text/html": [
       "<div>\n",
       "<style scoped>\n",
       "    .dataframe tbody tr th:only-of-type {\n",
       "        vertical-align: middle;\n",
       "    }\n",
       "\n",
       "    .dataframe tbody tr th {\n",
       "        vertical-align: top;\n",
       "    }\n",
       "\n",
       "    .dataframe thead th {\n",
       "        text-align: right;\n",
       "    }\n",
       "</style>\n",
       "<table border=\"1\" class=\"dataframe\">\n",
       "  <thead>\n",
       "    <tr style=\"text-align: right;\">\n",
       "      <th></th>\n",
       "      <th>Subject</th>\n",
       "      <th>Screening Number</th>\n",
       "      <th>Age</th>\n",
       "      <th>BMI</th>\n",
       "      <th>Ethnicity_1</th>\n",
       "      <th>Gender</th>\n",
       "      <th>Sequence</th>\n",
       "      <th>Tx</th>\n",
       "      <th>Visit</th>\n",
       "      <th>Time</th>\n",
       "      <th>...</th>\n",
       "      <th>PAA3OH</th>\n",
       "      <th>PAA4OH</th>\n",
       "      <th>PAAOCH</th>\n",
       "      <th>PPA3OCH4Oglc</th>\n",
       "      <th>PPA4OCH3Oglc</th>\n",
       "      <th>PPA4OH</th>\n",
       "      <th>PPAdiOH</th>\n",
       "      <th>PPAOCH</th>\n",
       "      <th>Unnamed: 9</th>\n",
       "      <th>Unnamed: 10</th>\n",
       "    </tr>\n",
       "  </thead>\n",
       "  <tbody>\n",
       "    <tr>\n",
       "      <th>10014</th>\n",
       "      <td>STR2_10101</td>\n",
       "      <td>NaN</td>\n",
       "      <td>NaN</td>\n",
       "      <td>40.68</td>\n",
       "      <td>CAU</td>\n",
       "      <td>F</td>\n",
       "      <td>NaN</td>\n",
       "      <td>PCB 2</td>\n",
       "      <td>OGTT 1</td>\n",
       "      <td>0.0</td>\n",
       "      <td>...</td>\n",
       "      <td>NaN</td>\n",
       "      <td>NaN</td>\n",
       "      <td>NaN</td>\n",
       "      <td>NaN</td>\n",
       "      <td>NaN</td>\n",
       "      <td>NaN</td>\n",
       "      <td>NaN</td>\n",
       "      <td>NaN</td>\n",
       "      <td>NaN</td>\n",
       "      <td>NaN</td>\n",
       "    </tr>\n",
       "    <tr>\n",
       "      <th>10015</th>\n",
       "      <td>STR2_10101</td>\n",
       "      <td>NaN</td>\n",
       "      <td>NaN</td>\n",
       "      <td>40.68</td>\n",
       "      <td>CAU</td>\n",
       "      <td>F</td>\n",
       "      <td>NaN</td>\n",
       "      <td>PCB 2</td>\n",
       "      <td>OGTT 1</td>\n",
       "      <td>60.0</td>\n",
       "      <td>...</td>\n",
       "      <td>NaN</td>\n",
       "      <td>NaN</td>\n",
       "      <td>NaN</td>\n",
       "      <td>NaN</td>\n",
       "      <td>NaN</td>\n",
       "      <td>NaN</td>\n",
       "      <td>NaN</td>\n",
       "      <td>NaN</td>\n",
       "      <td>NaN</td>\n",
       "      <td>NaN</td>\n",
       "    </tr>\n",
       "    <tr>\n",
       "      <th>10016</th>\n",
       "      <td>STR2_10101</td>\n",
       "      <td>NaN</td>\n",
       "      <td>NaN</td>\n",
       "      <td>40.68</td>\n",
       "      <td>CAU</td>\n",
       "      <td>F</td>\n",
       "      <td>NaN</td>\n",
       "      <td>PCB 2</td>\n",
       "      <td>OGTT 1</td>\n",
       "      <td>120.0</td>\n",
       "      <td>...</td>\n",
       "      <td>NaN</td>\n",
       "      <td>NaN</td>\n",
       "      <td>NaN</td>\n",
       "      <td>NaN</td>\n",
       "      <td>NaN</td>\n",
       "      <td>NaN</td>\n",
       "      <td>NaN</td>\n",
       "      <td>NaN</td>\n",
       "      <td>NaN</td>\n",
       "      <td>NaN</td>\n",
       "    </tr>\n",
       "    <tr>\n",
       "      <th>10017</th>\n",
       "      <td>STR2_10101</td>\n",
       "      <td>NaN</td>\n",
       "      <td>NaN</td>\n",
       "      <td>40.68</td>\n",
       "      <td>CAU</td>\n",
       "      <td>F</td>\n",
       "      <td>NaN</td>\n",
       "      <td>PCB 2</td>\n",
       "      <td>OGTT 1</td>\n",
       "      <td>180.0</td>\n",
       "      <td>...</td>\n",
       "      <td>NaN</td>\n",
       "      <td>NaN</td>\n",
       "      <td>NaN</td>\n",
       "      <td>NaN</td>\n",
       "      <td>NaN</td>\n",
       "      <td>NaN</td>\n",
       "      <td>NaN</td>\n",
       "      <td>NaN</td>\n",
       "      <td>NaN</td>\n",
       "      <td>NaN</td>\n",
       "    </tr>\n",
       "    <tr>\n",
       "      <th>10018</th>\n",
       "      <td>STR2_10101</td>\n",
       "      <td>NaN</td>\n",
       "      <td>NaN</td>\n",
       "      <td>40.68</td>\n",
       "      <td>CAU</td>\n",
       "      <td>F</td>\n",
       "      <td>NaN</td>\n",
       "      <td>PCB 2</td>\n",
       "      <td>OGTT 1</td>\n",
       "      <td>240.0</td>\n",
       "      <td>...</td>\n",
       "      <td>NaN</td>\n",
       "      <td>NaN</td>\n",
       "      <td>NaN</td>\n",
       "      <td>NaN</td>\n",
       "      <td>NaN</td>\n",
       "      <td>NaN</td>\n",
       "      <td>NaN</td>\n",
       "      <td>NaN</td>\n",
       "      <td>NaN</td>\n",
       "      <td>NaN</td>\n",
       "    </tr>\n",
       "  </tbody>\n",
       "</table>\n",
       "<p>5 rows × 314 columns</p>\n",
       "</div>"
      ],
      "text/plain": [
       "          Subject Screening Number  Age    BMI Ethnicity_1 Gender Sequence  \\\n",
       "10014  STR2_10101              NaN  NaN  40.68         CAU      F      NaN   \n",
       "10015  STR2_10101              NaN  NaN  40.68         CAU      F      NaN   \n",
       "10016  STR2_10101              NaN  NaN  40.68         CAU      F      NaN   \n",
       "10017  STR2_10101              NaN  NaN  40.68         CAU      F      NaN   \n",
       "10018  STR2_10101              NaN  NaN  40.68         CAU      F      NaN   \n",
       "\n",
       "          Tx   Visit   Time  ... PAA3OH PAA4OH  PAAOCH  PPA3OCH4Oglc  \\\n",
       "10014  PCB 2  OGTT 1    0.0  ...    NaN    NaN     NaN           NaN   \n",
       "10015  PCB 2  OGTT 1   60.0  ...    NaN    NaN     NaN           NaN   \n",
       "10016  PCB 2  OGTT 1  120.0  ...    NaN    NaN     NaN           NaN   \n",
       "10017  PCB 2  OGTT 1  180.0  ...    NaN    NaN     NaN           NaN   \n",
       "10018  PCB 2  OGTT 1  240.0  ...    NaN    NaN     NaN           NaN   \n",
       "\n",
       "       PPA4OCH3Oglc  PPA4OH PPAdiOH  PPAOCH Unnamed: 9 Unnamed: 10  \n",
       "10014           NaN     NaN     NaN     NaN        NaN         NaN  \n",
       "10015           NaN     NaN     NaN     NaN        NaN         NaN  \n",
       "10016           NaN     NaN     NaN     NaN        NaN         NaN  \n",
       "10017           NaN     NaN     NaN     NaN        NaN         NaN  \n",
       "10018           NaN     NaN     NaN     NaN        NaN         NaN  \n",
       "\n",
       "[5 rows x 314 columns]"
      ]
     },
     "execution_count": 5,
     "metadata": {},
     "output_type": "execute_result"
    }
   ],
   "source": [
    "'''Code snippet by Mike (changed)'''\n",
    "def filter_dataset(data,filter_name):\n",
    "    filtered_data = data[data.iloc[:, 0].fillna(\"\").astype(str).str.startswith(filter_name)]  # Filter based on the first column  \n",
    "    return filtered_data\n",
    "    \n",
    "# Example usage\n",
    "filter_name = \"STR2\"  # Replace with dataset name\n",
    "filtered_df = filter_dataset(df,filter_name)   # df is the dataframe or csv we loaded\n",
    "\n",
    "filtered_df.head()"
   ]
  },
  {
   "cell_type": "code",
   "execution_count": 6,
   "metadata": {},
   "outputs": [
    {
     "data": {
      "text/plain": [
       "(570, 314)"
      ]
     },
     "execution_count": 6,
     "metadata": {},
     "output_type": "execute_result"
    }
   ],
   "source": [
    "filtered_df.shape"
   ]
  },
  {
   "cell_type": "code",
   "execution_count": 7,
   "metadata": {},
   "outputs": [
    {
     "data": {
      "text/plain": [
       "Subject               0\n",
       "Screening Number    570\n",
       "Age                 570\n",
       "BMI                   5\n",
       "Ethnicity_1           0\n",
       "                   ... \n",
       "PPA4OH              570\n",
       "PPAdiOH             570\n",
       "PPAOCH              570\n",
       "Unnamed: 9          570\n",
       "Unnamed: 10         570\n",
       "Length: 314, dtype: int64"
      ]
     },
     "execution_count": 7,
     "metadata": {},
     "output_type": "execute_result"
    }
   ],
   "source": [
    "filtered_df.isnull().sum()"
   ]
  },
  {
   "cell_type": "markdown",
   "metadata": {},
   "source": [
    "### Remove Nulls"
   ]
  },
  {
   "cell_type": "code",
   "execution_count": 8,
   "metadata": {},
   "outputs": [
    {
     "name": "stdout",
     "output_type": "stream",
     "text": [
      "(570, 9)\n"
     ]
    }
   ],
   "source": [
    "\n",
    "def drop_columns_if_all_null(df,threshold=0.8):\n",
    "\n",
    "    # Calculate the percentage of null values in each column\n",
    "    null_percentages = df.isnull().mean()\n",
    "    # Get the column names where the null percentage exceeds the threshold\n",
    "    columns_to_drop = null_percentages[null_percentages >= threshold].index\n",
    "    # Drop the columns from the DataFrame\n",
    "    df_cleaned = df.drop(columns=columns_to_drop)\n",
    "\n",
    "    # # Drop columns where all values are null\n",
    "    # df_cleaned = df.dropna(axis=1, how='all')\n",
    "\n",
    "    # drop cols where all zero\n",
    "    zero_columns = df_cleaned.columns[(df_cleaned == 0).all()]\n",
    "    df_cleaned.drop(zero_columns, axis=1, inplace=True)\n",
    "\n",
    "    return df_cleaned\n",
    "\n",
    "# Drop columns with all null values\n",
    "df_cleaned = drop_columns_if_all_null(filtered_df,threshold=0.8)\n",
    "print(df_cleaned.shape)"
   ]
  },
  {
   "cell_type": "code",
   "execution_count": 9,
   "metadata": {},
   "outputs": [
    {
     "data": {
      "text/html": [
       "<div>\n",
       "<style scoped>\n",
       "    .dataframe tbody tr th:only-of-type {\n",
       "        vertical-align: middle;\n",
       "    }\n",
       "\n",
       "    .dataframe tbody tr th {\n",
       "        vertical-align: top;\n",
       "    }\n",
       "\n",
       "    .dataframe thead th {\n",
       "        text-align: right;\n",
       "    }\n",
       "</style>\n",
       "<table border=\"1\" class=\"dataframe\">\n",
       "  <thead>\n",
       "    <tr style=\"text-align: right;\">\n",
       "      <th></th>\n",
       "      <th>Glc</th>\n",
       "      <th>Insulin</th>\n",
       "    </tr>\n",
       "  </thead>\n",
       "  <tbody>\n",
       "    <tr>\n",
       "      <th>count</th>\n",
       "      <td>537.000000</td>\n",
       "      <td>516.000000</td>\n",
       "    </tr>\n",
       "    <tr>\n",
       "      <th>mean</th>\n",
       "      <td>106.742812</td>\n",
       "      <td>43.647849</td>\n",
       "    </tr>\n",
       "    <tr>\n",
       "      <th>std</th>\n",
       "      <td>36.214199</td>\n",
       "      <td>53.000303</td>\n",
       "    </tr>\n",
       "    <tr>\n",
       "      <th>min</th>\n",
       "      <td>35.770000</td>\n",
       "      <td>1.170000</td>\n",
       "    </tr>\n",
       "    <tr>\n",
       "      <th>25%</th>\n",
       "      <td>84.170000</td>\n",
       "      <td>6.995000</td>\n",
       "    </tr>\n",
       "    <tr>\n",
       "      <th>50%</th>\n",
       "      <td>96.340000</td>\n",
       "      <td>19.310000</td>\n",
       "    </tr>\n",
       "    <tr>\n",
       "      <th>75%</th>\n",
       "      <td>116.830000</td>\n",
       "      <td>59.777500</td>\n",
       "    </tr>\n",
       "    <tr>\n",
       "      <th>max</th>\n",
       "      <td>303.710000</td>\n",
       "      <td>254.910000</td>\n",
       "    </tr>\n",
       "  </tbody>\n",
       "</table>\n",
       "</div>"
      ],
      "text/plain": [
       "              Glc     Insulin\n",
       "count  537.000000  516.000000\n",
       "mean   106.742812   43.647849\n",
       "std     36.214199   53.000303\n",
       "min     35.770000    1.170000\n",
       "25%     84.170000    6.995000\n",
       "50%     96.340000   19.310000\n",
       "75%    116.830000   59.777500\n",
       "max    303.710000  254.910000"
      ]
     },
     "execution_count": 9,
     "metadata": {},
     "output_type": "execute_result"
    }
   ],
   "source": [
    "df_cleaned.describe()"
   ]
  },
  {
   "attachments": {},
   "cell_type": "markdown",
   "metadata": {},
   "source": [
    "### Label encode some columns"
   ]
  },
  {
   "cell_type": "code",
   "execution_count": 10,
   "metadata": {},
   "outputs": [],
   "source": [
    "# function to check unique values in each column and label encode them\n",
    "def check_unique_values(df):\n",
    "    for col in df.columns:\n",
    "        if df[col].nunique() < 10:\n",
    "            df[col] = le.fit_transform(df[col])\n",
    "\n",
    "    return df\n",
    "\n",
    "filtered_df_null_encoded = check_unique_values(df_cleaned)"
   ]
  },
  {
   "cell_type": "code",
   "execution_count": 11,
   "metadata": {},
   "outputs": [
    {
     "data": {
      "text/html": [
       "<div>\n",
       "<style scoped>\n",
       "    .dataframe tbody tr th:only-of-type {\n",
       "        vertical-align: middle;\n",
       "    }\n",
       "\n",
       "    .dataframe tbody tr th {\n",
       "        vertical-align: top;\n",
       "    }\n",
       "\n",
       "    .dataframe thead th {\n",
       "        text-align: right;\n",
       "    }\n",
       "</style>\n",
       "<table border=\"1\" class=\"dataframe\">\n",
       "  <thead>\n",
       "    <tr style=\"text-align: right;\">\n",
       "      <th></th>\n",
       "      <th>Subject</th>\n",
       "      <th>BMI</th>\n",
       "      <th>Ethnicity_1</th>\n",
       "      <th>Gender</th>\n",
       "      <th>Tx</th>\n",
       "      <th>Visit</th>\n",
       "      <th>Time</th>\n",
       "      <th>Glc</th>\n",
       "      <th>Insulin</th>\n",
       "    </tr>\n",
       "  </thead>\n",
       "  <tbody>\n",
       "    <tr>\n",
       "      <th>10014</th>\n",
       "      <td>STR2_10101</td>\n",
       "      <td>40.68</td>\n",
       "      <td>2</td>\n",
       "      <td>0</td>\n",
       "      <td>1</td>\n",
       "      <td>0</td>\n",
       "      <td>0</td>\n",
       "      <td>94.88</td>\n",
       "      <td>7.86</td>\n",
       "    </tr>\n",
       "    <tr>\n",
       "      <th>10015</th>\n",
       "      <td>STR2_10101</td>\n",
       "      <td>40.68</td>\n",
       "      <td>2</td>\n",
       "      <td>0</td>\n",
       "      <td>1</td>\n",
       "      <td>0</td>\n",
       "      <td>1</td>\n",
       "      <td>118.88</td>\n",
       "      <td>72.37</td>\n",
       "    </tr>\n",
       "    <tr>\n",
       "      <th>10016</th>\n",
       "      <td>STR2_10101</td>\n",
       "      <td>40.68</td>\n",
       "      <td>2</td>\n",
       "      <td>0</td>\n",
       "      <td>1</td>\n",
       "      <td>0</td>\n",
       "      <td>2</td>\n",
       "      <td>109.36</td>\n",
       "      <td>59.34</td>\n",
       "    </tr>\n",
       "    <tr>\n",
       "      <th>10017</th>\n",
       "      <td>STR2_10101</td>\n",
       "      <td>40.68</td>\n",
       "      <td>2</td>\n",
       "      <td>0</td>\n",
       "      <td>1</td>\n",
       "      <td>0</td>\n",
       "      <td>3</td>\n",
       "      <td>79.04</td>\n",
       "      <td>9.21</td>\n",
       "    </tr>\n",
       "    <tr>\n",
       "      <th>10018</th>\n",
       "      <td>STR2_10101</td>\n",
       "      <td>40.68</td>\n",
       "      <td>2</td>\n",
       "      <td>0</td>\n",
       "      <td>1</td>\n",
       "      <td>0</td>\n",
       "      <td>4</td>\n",
       "      <td>93.14</td>\n",
       "      <td>6.55</td>\n",
       "    </tr>\n",
       "  </tbody>\n",
       "</table>\n",
       "</div>"
      ],
      "text/plain": [
       "          Subject    BMI  Ethnicity_1  Gender  Tx  Visit  Time     Glc  \\\n",
       "10014  STR2_10101  40.68            2       0   1      0     0   94.88   \n",
       "10015  STR2_10101  40.68            2       0   1      0     1  118.88   \n",
       "10016  STR2_10101  40.68            2       0   1      0     2  109.36   \n",
       "10017  STR2_10101  40.68            2       0   1      0     3   79.04   \n",
       "10018  STR2_10101  40.68            2       0   1      0     4   93.14   \n",
       "\n",
       "       Insulin  \n",
       "10014     7.86  \n",
       "10015    72.37  \n",
       "10016    59.34  \n",
       "10017     9.21  \n",
       "10018     6.55  "
      ]
     },
     "execution_count": 11,
     "metadata": {},
     "output_type": "execute_result"
    }
   ],
   "source": [
    "filtered_df_null_encoded.head()"
   ]
  },
  {
   "cell_type": "markdown",
   "metadata": {},
   "source": [
    "### Drop some columns"
   ]
  },
  {
   "cell_type": "code",
   "execution_count": 12,
   "metadata": {},
   "outputs": [
    {
     "data": {
      "text/plain": [
       "(570, 7)"
      ]
     },
     "execution_count": 12,
     "metadata": {},
     "output_type": "execute_result"
    }
   ],
   "source": [
    "# norm_df = filtered_df_null_encoded.drop(['Subject','Time','ScreenDate','consent date ','ScreenID'], axis=1)\n",
    "norm_df = filtered_df_null_encoded.drop(['Subject','Time'], axis=1)\n",
    "norm_df.shape"
   ]
  },
  {
   "cell_type": "markdown",
   "metadata": {},
   "source": [
    "### imputations"
   ]
  },
  {
   "cell_type": "code",
   "execution_count": 13,
   "metadata": {},
   "outputs": [
    {
     "data": {
      "text/plain": [
       "' need to handle Nulls\\nTG 1541\\nb_TG 1541\\nGlc 1541\\nb_Glc 1541\\nInsulin 1509\\nb_Ins 1541'"
      ]
     },
     "execution_count": 13,
     "metadata": {},
     "output_type": "execute_result"
    }
   ],
   "source": [
    "# for cols in norm_df.columns:\n",
    "#     print(cols,norm_df[cols].isnull().sum())\n",
    "\n",
    "''' need to handle Nulls\n",
    "TG 1541\n",
    "b_TG 1541\n",
    "Glc 1541\n",
    "b_Glc 1541\n",
    "Insulin 1509\n",
    "b_Ins 1541'''"
   ]
  },
  {
   "attachments": {},
   "cell_type": "markdown",
   "metadata": {},
   "source": [
    "### Normalize"
   ]
  },
  {
   "cell_type": "code",
   "execution_count": 14,
   "metadata": {},
   "outputs": [],
   "source": [
    "def normalize_numeric_columns(df):\n",
    "    numeric_cols = df.select_dtypes(include=['int64', 'float64']).columns\n",
    "    \n",
    "    # Normalize numeric columns\n",
    "    df[numeric_cols] = (df[numeric_cols] - df[numeric_cols].min()) / (df[numeric_cols].max() - df[numeric_cols].min())\n",
    "    \n",
    "    return df\n",
    "\n",
    "normalized_df = normalize_numeric_columns(norm_df)\n"
   ]
  },
  {
   "cell_type": "code",
   "execution_count": 15,
   "metadata": {},
   "outputs": [
    {
     "data": {
      "text/plain": [
       "(570, 7)"
      ]
     },
     "execution_count": 15,
     "metadata": {},
     "output_type": "execute_result"
    }
   ],
   "source": [
    "normalized_df.shape"
   ]
  },
  {
   "cell_type": "code",
   "execution_count": 16,
   "metadata": {},
   "outputs": [
    {
     "data": {
      "text/html": [
       "<div>\n",
       "<style scoped>\n",
       "    .dataframe tbody tr th:only-of-type {\n",
       "        vertical-align: middle;\n",
       "    }\n",
       "\n",
       "    .dataframe tbody tr th {\n",
       "        vertical-align: top;\n",
       "    }\n",
       "\n",
       "    .dataframe thead th {\n",
       "        text-align: right;\n",
       "    }\n",
       "</style>\n",
       "<table border=\"1\" class=\"dataframe\">\n",
       "  <thead>\n",
       "    <tr style=\"text-align: right;\">\n",
       "      <th></th>\n",
       "      <th>BMI</th>\n",
       "      <th>Ethnicity_1</th>\n",
       "      <th>Gender</th>\n",
       "      <th>Tx</th>\n",
       "      <th>Visit</th>\n",
       "      <th>Glc</th>\n",
       "      <th>Insulin</th>\n",
       "    </tr>\n",
       "  </thead>\n",
       "  <tbody>\n",
       "    <tr>\n",
       "      <th>10014</th>\n",
       "      <td>40.68</td>\n",
       "      <td>2</td>\n",
       "      <td>0</td>\n",
       "      <td>1</td>\n",
       "      <td>0</td>\n",
       "      <td>0.220609</td>\n",
       "      <td>0.026366</td>\n",
       "    </tr>\n",
       "    <tr>\n",
       "      <th>10015</th>\n",
       "      <td>40.68</td>\n",
       "      <td>2</td>\n",
       "      <td>0</td>\n",
       "      <td>1</td>\n",
       "      <td>0</td>\n",
       "      <td>0.310181</td>\n",
       "      <td>0.280602</td>\n",
       "    </tr>\n",
       "    <tr>\n",
       "      <th>10016</th>\n",
       "      <td>40.68</td>\n",
       "      <td>2</td>\n",
       "      <td>0</td>\n",
       "      <td>1</td>\n",
       "      <td>0</td>\n",
       "      <td>0.274651</td>\n",
       "      <td>0.229250</td>\n",
       "    </tr>\n",
       "    <tr>\n",
       "      <th>10017</th>\n",
       "      <td>40.68</td>\n",
       "      <td>2</td>\n",
       "      <td>0</td>\n",
       "      <td>1</td>\n",
       "      <td>0</td>\n",
       "      <td>0.161491</td>\n",
       "      <td>0.031686</td>\n",
       "    </tr>\n",
       "    <tr>\n",
       "      <th>10018</th>\n",
       "      <td>40.68</td>\n",
       "      <td>2</td>\n",
       "      <td>0</td>\n",
       "      <td>1</td>\n",
       "      <td>0</td>\n",
       "      <td>0.214115</td>\n",
       "      <td>0.021203</td>\n",
       "    </tr>\n",
       "  </tbody>\n",
       "</table>\n",
       "</div>"
      ],
      "text/plain": [
       "         BMI  Ethnicity_1  Gender  Tx  Visit       Glc   Insulin\n",
       "10014  40.68            2       0   1      0  0.220609  0.026366\n",
       "10015  40.68            2       0   1      0  0.310181  0.280602\n",
       "10016  40.68            2       0   1      0  0.274651  0.229250\n",
       "10017  40.68            2       0   1      0  0.161491  0.031686\n",
       "10018  40.68            2       0   1      0  0.214115  0.021203"
      ]
     },
     "execution_count": 16,
     "metadata": {},
     "output_type": "execute_result"
    }
   ],
   "source": [
    "normalized_df.head()"
   ]
  },
  {
   "attachments": {},
   "cell_type": "markdown",
   "metadata": {},
   "source": [
    "## Correlation matrix"
   ]
  },
  {
   "cell_type": "code",
   "execution_count": 17,
   "metadata": {},
   "outputs": [
    {
     "name": "stderr",
     "output_type": "stream",
     "text": [
      "C:\\Users\\User\\AppData\\Local\\Temp\\ipykernel_19704\\3567470366.py:10: FutureWarning: The default value of numeric_only in DataFrame.corr is deprecated. In a future version, it will default to False. Select only valid columns or specify the value of numeric_only to silence this warning.\n",
      "  correlation_matrix = normalized_df.corr()\n"
     ]
    },
    {
     "data": {
      "image/png": "[encoded data removed]",
      "text/plain": [
       "<Figure size 2000x1800 with 2 Axes>"
      ]
     },
     "metadata": {},
     "output_type": "display_data"
    }
   ],
   "source": [
    "# function to calculate correlation matrix and plot it\n",
    "def visualize_correlation_matrix(correlation_matrix):\n",
    "    # Create a heatmap using seaborn\n",
    "    plt.figure(figsize=(20, 18))\n",
    "    sns.heatmap(correlation_matrix, annot=True, cmap=\"coolwarm\", linewidths=0.5)\n",
    "    plt.title(\"Correlation Matrix\")\n",
    "    plt.show()\n",
    "\n",
    "# Calculate correlation matrix\n",
    "correlation_matrix = normalized_df.corr()\n",
    "# visualize\n",
    "visualize_correlation_matrix(correlation_matrix)\n"
   ]
  },
  {
   "cell_type": "markdown",
   "metadata": {},
   "source": [
    "### identify strong correlations"
   ]
  },
  {
   "cell_type": "code",
   "execution_count": 22,
   "metadata": {},
   "outputs": [
    {
     "data": {
      "text/html": [
       "<div>\n",
       "<style scoped>\n",
       "    .dataframe tbody tr th:only-of-type {\n",
       "        vertical-align: middle;\n",
       "    }\n",
       "\n",
       "    .dataframe tbody tr th {\n",
       "        vertical-align: top;\n",
       "    }\n",
       "\n",
       "    .dataframe thead th {\n",
       "        text-align: right;\n",
       "    }\n",
       "</style>\n",
       "<table border=\"1\" class=\"dataframe\">\n",
       "  <thead>\n",
       "    <tr style=\"text-align: right;\">\n",
       "      <th></th>\n",
       "      <th>feature1</th>\n",
       "      <th>feature2</th>\n",
       "      <th>correlation</th>\n",
       "    </tr>\n",
       "  </thead>\n",
       "  <tbody>\n",
       "    <tr>\n",
       "      <th>0</th>\n",
       "      <td>Glc</td>\n",
       "      <td>Insulin</td>\n",
       "      <td>0.676023</td>\n",
       "    </tr>\n",
       "  </tbody>\n",
       "</table>\n",
       "</div>"
      ],
      "text/plain": [
       "  feature1 feature2  correlation\n",
       "0      Glc  Insulin     0.676023"
      ]
     },
     "execution_count": 22,
     "metadata": {},
     "output_type": "execute_result"
    }
   ],
   "source": [
    "def identify_strong_correlations(correlation_matrix, threshold=0.7):\n",
    "    # Find the indices of strongly correlated features\n",
    "    n_features = correlation_matrix.shape[0]\n",
    "    strongly_correlated = []\n",
    "    \n",
    "    for i in range(n_features):\n",
    "        for j in range(i+1, n_features):\n",
    "            if abs(correlation_matrix.iloc[i, j]) >= threshold:\n",
    "                strongly_correlated.append((correlation_matrix.index[i], correlation_matrix.columns[j], correlation_matrix.iloc[i, j]))\n",
    "    \n",
    "    return strongly_correlated\n",
    "\n",
    "# Set a correlation threshold\n",
    "threshold = 0.5\n",
    "\n",
    "# Find strongly correlated features\n",
    "strong_correlations = identify_strong_correlations(correlation_matrix, threshold)\n",
    "strong_correlations_df = pd.DataFrame(strong_correlations, columns=['feature1','feature2','correlation'])\n",
    "strong_correlations_df\n"
   ]
  },
  {
   "cell_type": "markdown",
   "metadata": {},
   "source": [
    "### Perform Spearman correlations"
   ]
  },
  {
   "cell_type": "code",
   "execution_count": 23,
   "metadata": {},
   "outputs": [
    {
     "name": "stderr",
     "output_type": "stream",
     "text": [
      "C:\\Users\\User\\AppData\\Local\\Temp\\ipykernel_19704\\3496157518.py:3: FutureWarning: The default value of numeric_only in DataFrame.corr is deprecated. In a future version, it will default to False. Select only valid columns or specify the value of numeric_only to silence this warning.\n",
      "  spearman_corr_matrix = df.corr(method='spearman')\n"
     ]
    },
    {
     "data": {
      "image/png": "[encoded data removed]",
      "text/plain": [
       "<Figure size 2000x1800 with 2 Axes>"
      ]
     },
     "metadata": {},
     "output_type": "display_data"
    }
   ],
   "source": [
    "def calculate_spearman_correlation(df):\n",
    "    # Calculate the Spearman correlation matrix\n",
    "    spearman_corr_matrix = df.corr(method='spearman')\n",
    "    \n",
    "    return spearman_corr_matrix\n",
    "\n",
    "spearman_corr_matrix = calculate_spearman_correlation(normalized_df)\n",
    "\n",
    "# visualize\n",
    "visualize_correlation_matrix(spearman_corr_matrix)"
   ]
  },
  {
   "cell_type": "code",
   "execution_count": 24,
   "metadata": {},
   "outputs": [
    {
     "data": {
      "text/html": [
       "<div>\n",
       "<style scoped>\n",
       "    .dataframe tbody tr th:only-of-type {\n",
       "        vertical-align: middle;\n",
       "    }\n",
       "\n",
       "    .dataframe tbody tr th {\n",
       "        vertical-align: top;\n",
       "    }\n",
       "\n",
       "    .dataframe thead th {\n",
       "        text-align: right;\n",
       "    }\n",
       "</style>\n",
       "<table border=\"1\" class=\"dataframe\">\n",
       "  <thead>\n",
       "    <tr style=\"text-align: right;\">\n",
       "      <th></th>\n",
       "      <th>feature1_spear</th>\n",
       "      <th>feature2_spear</th>\n",
       "      <th>correlation</th>\n",
       "    </tr>\n",
       "  </thead>\n",
       "  <tbody>\n",
       "    <tr>\n",
       "      <th>0</th>\n",
       "      <td>Glc</td>\n",
       "      <td>Insulin</td>\n",
       "      <td>0.641947</td>\n",
       "    </tr>\n",
       "  </tbody>\n",
       "</table>\n",
       "</div>"
      ],
      "text/plain": [
       "  feature1_spear feature2_spear  correlation\n",
       "0            Glc        Insulin     0.641947"
      ]
     },
     "execution_count": 24,
     "metadata": {},
     "output_type": "execute_result"
    }
   ],
   "source": [
    "# Find strongly correlated features in spearman\n",
    "strong_correlations = identify_strong_correlations(spearman_corr_matrix, threshold)\n",
    "strong_correlations_df = pd.DataFrame(strong_correlations, columns=['feature1_spear','feature2_spear','correlation'])\n",
    "strong_correlations_df\n"
   ]
  }
 ],
 "metadata": {
  "kernelspec": {
   "display_name": "DEEPLABCUT",
   "language": "python",
   "name": "python3"
  },
  "language_info": {
   "codemirror_mode": {
    "name": "ipython",
    "version": 3
   },
   "file_extension": ".py",
   "mimetype": "text/x-python",
   "name": "python",
   "nbconvert_exporter": "python",
   "pygments_lexer": "ipython3",
   "version": "3.8.15"
  },
  "orig_nbformat": 4
 },
 "nbformat": 4,
 "nbformat_minor": 2
}
