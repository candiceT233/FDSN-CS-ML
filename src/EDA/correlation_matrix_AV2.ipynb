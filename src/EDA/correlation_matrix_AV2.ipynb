{
 "cells": [
  {
   "cell_type": "code",
   "execution_count": 1,
   "metadata": {},
   "outputs": [],
   "source": [
    "#import libraries\n",
    "import os\n",
    "import pandas as pd\n",
    "import matplotlib.pyplot as plt\n",
    "from sklearn.preprocessing import LabelEncoder\n",
    "from sklearn.preprocessing import StandardScaler\n",
    "import seaborn as sns\n",
    "from sklearn.cluster import KMeans\n",
    "from sklearn.manifold import TSNE\n",
    "\n",
    "\n",
    "default_log_name='data_validation.log'\n",
    "onboarded_dir='../../data/processed/'\n",
    "onboarded_file='Merged_dataset.csv'\n",
    "le = LabelEncoder()"
   ]
  },
  {
   "cell_type": "code",
   "execution_count": 2,
   "metadata": {},
   "outputs": [
    {
     "name": "stderr",
     "output_type": "stream",
     "text": [
      "C:\\Users\\User\\AppData\\Local\\Temp\\ipykernel_13932\\342745817.py:2: DtypeWarning: Columns (1,3,9,10,11,16,18,19,23,24,25,26,42,56,57,58,61,62,63,64,65,66,75,76,77,78,113,123,124,127,185,188,189,192,195,197,198,201,204,210,213,217,225,234,238,240,243,247,248,249,251) have mixed types. Specify dtype option on import or set low_memory=False.\n",
      "  df = pd.read_csv(os.path.join(onboarded_dir, onboarded_file))\n"
     ]
    },
    {
     "data": {
      "text/plain": [
       "(11448, 314)"
      ]
     },
     "execution_count": 2,
     "metadata": {},
     "output_type": "execute_result"
    }
   ],
   "source": [
    "# read dataset\n",
    "df = pd.read_csv(os.path.join(onboarded_dir, onboarded_file))\n",
    "df.shape"
   ]
  },
  {
   "attachments": {},
   "cell_type": "markdown",
   "metadata": {},
   "source": [
    "## Describe Dataset"
   ]
  },
  {
   "cell_type": "code",
   "execution_count": 3,
   "metadata": {},
   "outputs": [
    {
     "data": {
      "text/html": [
       "<div>\n",
       "<style scoped>\n",
       "    .dataframe tbody tr th:only-of-type {\n",
       "        vertical-align: middle;\n",
       "    }\n",
       "\n",
       "    .dataframe tbody tr th {\n",
       "        vertical-align: top;\n",
       "    }\n",
       "\n",
       "    .dataframe thead th {\n",
       "        text-align: right;\n",
       "    }\n",
       "</style>\n",
       "<table border=\"1\" class=\"dataframe\">\n",
       "  <thead>\n",
       "    <tr style=\"text-align: right;\">\n",
       "      <th></th>\n",
       "      <th>Subject</th>\n",
       "      <th>Screening Number</th>\n",
       "      <th>Age</th>\n",
       "      <th>BMI</th>\n",
       "      <th>Ethnicity_1</th>\n",
       "      <th>Gender</th>\n",
       "      <th>Sequence</th>\n",
       "      <th>Tx</th>\n",
       "      <th>Visit</th>\n",
       "      <th>Time</th>\n",
       "      <th>...</th>\n",
       "      <th>PAA3OH</th>\n",
       "      <th>PAA4OH</th>\n",
       "      <th>PAAOCH</th>\n",
       "      <th>PPA3OCH4Oglc</th>\n",
       "      <th>PPA4OCH3Oglc</th>\n",
       "      <th>PPA4OH</th>\n",
       "      <th>PPAdiOH</th>\n",
       "      <th>PPAOCH</th>\n",
       "      <th>Unnamed: 9</th>\n",
       "      <th>Unnamed: 10</th>\n",
       "    </tr>\n",
       "  </thead>\n",
       "  <tbody>\n",
       "    <tr>\n",
       "      <th>0</th>\n",
       "      <td>COF1_17101</td>\n",
       "      <td>COF1_SC09</td>\n",
       "      <td>28.0</td>\n",
       "      <td>31.2</td>\n",
       "      <td>African American</td>\n",
       "      <td>F</td>\n",
       "      <td>COF-PCB</td>\n",
       "      <td>COF</td>\n",
       "      <td>PPD 1</td>\n",
       "      <td>0.0</td>\n",
       "      <td>...</td>\n",
       "      <td>NaN</td>\n",
       "      <td>NaN</td>\n",
       "      <td>NaN</td>\n",
       "      <td>NaN</td>\n",
       "      <td>NaN</td>\n",
       "      <td>NaN</td>\n",
       "      <td>NaN</td>\n",
       "      <td>NaN</td>\n",
       "      <td>NaN</td>\n",
       "      <td>NaN</td>\n",
       "    </tr>\n",
       "    <tr>\n",
       "      <th>1</th>\n",
       "      <td>COF1_17101</td>\n",
       "      <td>COF1_SC09</td>\n",
       "      <td>28.0</td>\n",
       "      <td>31.2</td>\n",
       "      <td>African American</td>\n",
       "      <td>F</td>\n",
       "      <td>COF-PCB</td>\n",
       "      <td>COF</td>\n",
       "      <td>PPD 1</td>\n",
       "      <td>40.0</td>\n",
       "      <td>...</td>\n",
       "      <td>NaN</td>\n",
       "      <td>NaN</td>\n",
       "      <td>NaN</td>\n",
       "      <td>NaN</td>\n",
       "      <td>NaN</td>\n",
       "      <td>NaN</td>\n",
       "      <td>NaN</td>\n",
       "      <td>NaN</td>\n",
       "      <td>NaN</td>\n",
       "      <td>NaN</td>\n",
       "    </tr>\n",
       "    <tr>\n",
       "      <th>2</th>\n",
       "      <td>COF1_17101</td>\n",
       "      <td>COF1_SC09</td>\n",
       "      <td>28.0</td>\n",
       "      <td>31.2</td>\n",
       "      <td>African American</td>\n",
       "      <td>F</td>\n",
       "      <td>COF-PCB</td>\n",
       "      <td>COF</td>\n",
       "      <td>PPD 1</td>\n",
       "      <td>120.0</td>\n",
       "      <td>...</td>\n",
       "      <td>NaN</td>\n",
       "      <td>NaN</td>\n",
       "      <td>NaN</td>\n",
       "      <td>NaN</td>\n",
       "      <td>NaN</td>\n",
       "      <td>NaN</td>\n",
       "      <td>NaN</td>\n",
       "      <td>NaN</td>\n",
       "      <td>NaN</td>\n",
       "      <td>NaN</td>\n",
       "    </tr>\n",
       "    <tr>\n",
       "      <th>3</th>\n",
       "      <td>COF1_17101</td>\n",
       "      <td>COF1_SC09</td>\n",
       "      <td>28.0</td>\n",
       "      <td>31.2</td>\n",
       "      <td>African American</td>\n",
       "      <td>F</td>\n",
       "      <td>COF-PCB</td>\n",
       "      <td>COF</td>\n",
       "      <td>PPD 1</td>\n",
       "      <td>180.0</td>\n",
       "      <td>...</td>\n",
       "      <td>NaN</td>\n",
       "      <td>NaN</td>\n",
       "      <td>NaN</td>\n",
       "      <td>NaN</td>\n",
       "      <td>NaN</td>\n",
       "      <td>NaN</td>\n",
       "      <td>NaN</td>\n",
       "      <td>NaN</td>\n",
       "      <td>NaN</td>\n",
       "      <td>NaN</td>\n",
       "    </tr>\n",
       "    <tr>\n",
       "      <th>4</th>\n",
       "      <td>COF1_17101</td>\n",
       "      <td>COF1_SC09</td>\n",
       "      <td>28.0</td>\n",
       "      <td>31.2</td>\n",
       "      <td>African American</td>\n",
       "      <td>F</td>\n",
       "      <td>COF-PCB</td>\n",
       "      <td>COF</td>\n",
       "      <td>PPD 1</td>\n",
       "      <td>240.0</td>\n",
       "      <td>...</td>\n",
       "      <td>NaN</td>\n",
       "      <td>NaN</td>\n",
       "      <td>NaN</td>\n",
       "      <td>NaN</td>\n",
       "      <td>NaN</td>\n",
       "      <td>NaN</td>\n",
       "      <td>NaN</td>\n",
       "      <td>NaN</td>\n",
       "      <td>NaN</td>\n",
       "      <td>NaN</td>\n",
       "    </tr>\n",
       "  </tbody>\n",
       "</table>\n",
       "<p>5 rows × 314 columns</p>\n",
       "</div>"
      ],
      "text/plain": [
       "      Subject Screening Number   Age   BMI       Ethnicity_1 Gender Sequence  \\\n",
       "0  COF1_17101        COF1_SC09  28.0  31.2  African American      F  COF-PCB   \n",
       "1  COF1_17101        COF1_SC09  28.0  31.2  African American      F  COF-PCB   \n",
       "2  COF1_17101        COF1_SC09  28.0  31.2  African American      F  COF-PCB   \n",
       "3  COF1_17101        COF1_SC09  28.0  31.2  African American      F  COF-PCB   \n",
       "4  COF1_17101        COF1_SC09  28.0  31.2  African American      F  COF-PCB   \n",
       "\n",
       "    Tx  Visit   Time  ... PAA3OH PAA4OH  PAAOCH  PPA3OCH4Oglc  PPA4OCH3Oglc  \\\n",
       "0  COF  PPD 1    0.0  ...    NaN    NaN     NaN           NaN           NaN   \n",
       "1  COF  PPD 1   40.0  ...    NaN    NaN     NaN           NaN           NaN   \n",
       "2  COF  PPD 1  120.0  ...    NaN    NaN     NaN           NaN           NaN   \n",
       "3  COF  PPD 1  180.0  ...    NaN    NaN     NaN           NaN           NaN   \n",
       "4  COF  PPD 1  240.0  ...    NaN    NaN     NaN           NaN           NaN   \n",
       "\n",
       "   PPA4OH PPAdiOH  PPAOCH Unnamed: 9 Unnamed: 10  \n",
       "0     NaN     NaN     NaN        NaN         NaN  \n",
       "1     NaN     NaN     NaN        NaN         NaN  \n",
       "2     NaN     NaN     NaN        NaN         NaN  \n",
       "3     NaN     NaN     NaN        NaN         NaN  \n",
       "4     NaN     NaN     NaN        NaN         NaN  \n",
       "\n",
       "[5 rows x 314 columns]"
      ]
     },
     "execution_count": 3,
     "metadata": {},
     "output_type": "execute_result"
    }
   ],
   "source": [
    "df.head()"
   ]
  },
  {
   "cell_type": "code",
   "execution_count": 4,
   "metadata": {},
   "outputs": [
    {
     "name": "stdout",
     "output_type": "stream",
     "text": [
      "<class 'pandas.core.frame.DataFrame'>\n",
      "RangeIndex: 11448 entries, 0 to 11447\n",
      "Columns: 314 entries, Subject to Unnamed: 10\n",
      "dtypes: float64(257), object(57)\n",
      "memory usage: 27.4+ MB\n"
     ]
    }
   ],
   "source": [
    "df.info()"
   ]
  },
  {
   "cell_type": "markdown",
   "metadata": {},
   "source": [
    "### Filter dataset by category\n",
    "#### Working with AV2 dataset"
   ]
  },
  {
   "cell_type": "code",
   "execution_count": 5,
   "metadata": {},
   "outputs": [
    {
     "data": {
      "text/html": [
       "<div>\n",
       "<style scoped>\n",
       "    .dataframe tbody tr th:only-of-type {\n",
       "        vertical-align: middle;\n",
       "    }\n",
       "\n",
       "    .dataframe tbody tr th {\n",
       "        vertical-align: top;\n",
       "    }\n",
       "\n",
       "    .dataframe thead th {\n",
       "        text-align: right;\n",
       "    }\n",
       "</style>\n",
       "<table border=\"1\" class=\"dataframe\">\n",
       "  <thead>\n",
       "    <tr style=\"text-align: right;\">\n",
       "      <th></th>\n",
       "      <th>Subject</th>\n",
       "      <th>Screening Number</th>\n",
       "      <th>Age</th>\n",
       "      <th>BMI</th>\n",
       "      <th>Ethnicity_1</th>\n",
       "      <th>Gender</th>\n",
       "      <th>Sequence</th>\n",
       "      <th>Tx</th>\n",
       "      <th>Visit</th>\n",
       "      <th>Time</th>\n",
       "      <th>...</th>\n",
       "      <th>PAA3OH</th>\n",
       "      <th>PAA4OH</th>\n",
       "      <th>PAAOCH</th>\n",
       "      <th>PPA3OCH4Oglc</th>\n",
       "      <th>PPA4OCH3Oglc</th>\n",
       "      <th>PPA4OH</th>\n",
       "      <th>PPAdiOH</th>\n",
       "      <th>PPAOCH</th>\n",
       "      <th>Unnamed: 9</th>\n",
       "      <th>Unnamed: 10</th>\n",
       "    </tr>\n",
       "  </thead>\n",
       "  <tbody>\n",
       "    <tr>\n",
       "      <th>7806</th>\n",
       "      <td>AV2_291001</td>\n",
       "      <td>NaN</td>\n",
       "      <td>45.0</td>\n",
       "      <td>37.9</td>\n",
       "      <td>NaN</td>\n",
       "      <td>F</td>\n",
       "      <td>NaN</td>\n",
       "      <td>NaN</td>\n",
       "      <td>WK0</td>\n",
       "      <td>0.0</td>\n",
       "      <td>...</td>\n",
       "      <td>NaN</td>\n",
       "      <td>NaN</td>\n",
       "      <td>NaN</td>\n",
       "      <td>NaN</td>\n",
       "      <td>NaN</td>\n",
       "      <td>NaN</td>\n",
       "      <td>NaN</td>\n",
       "      <td>NaN</td>\n",
       "      <td>NaN</td>\n",
       "      <td>NaN</td>\n",
       "    </tr>\n",
       "    <tr>\n",
       "      <th>7807</th>\n",
       "      <td>AV2_291001</td>\n",
       "      <td>NaN</td>\n",
       "      <td>45.0</td>\n",
       "      <td>37.9</td>\n",
       "      <td>NaN</td>\n",
       "      <td>F</td>\n",
       "      <td>NaN</td>\n",
       "      <td>NaN</td>\n",
       "      <td>WK0</td>\n",
       "      <td>0.5</td>\n",
       "      <td>...</td>\n",
       "      <td>NaN</td>\n",
       "      <td>NaN</td>\n",
       "      <td>NaN</td>\n",
       "      <td>NaN</td>\n",
       "      <td>NaN</td>\n",
       "      <td>NaN</td>\n",
       "      <td>NaN</td>\n",
       "      <td>NaN</td>\n",
       "      <td>NaN</td>\n",
       "      <td>NaN</td>\n",
       "    </tr>\n",
       "    <tr>\n",
       "      <th>7808</th>\n",
       "      <td>AV2_291001</td>\n",
       "      <td>NaN</td>\n",
       "      <td>45.0</td>\n",
       "      <td>37.9</td>\n",
       "      <td>NaN</td>\n",
       "      <td>F</td>\n",
       "      <td>NaN</td>\n",
       "      <td>NaN</td>\n",
       "      <td>WK0</td>\n",
       "      <td>1.0</td>\n",
       "      <td>...</td>\n",
       "      <td>NaN</td>\n",
       "      <td>NaN</td>\n",
       "      <td>NaN</td>\n",
       "      <td>NaN</td>\n",
       "      <td>NaN</td>\n",
       "      <td>NaN</td>\n",
       "      <td>NaN</td>\n",
       "      <td>NaN</td>\n",
       "      <td>NaN</td>\n",
       "      <td>NaN</td>\n",
       "    </tr>\n",
       "    <tr>\n",
       "      <th>7809</th>\n",
       "      <td>AV2_291001</td>\n",
       "      <td>NaN</td>\n",
       "      <td>45.0</td>\n",
       "      <td>37.9</td>\n",
       "      <td>NaN</td>\n",
       "      <td>F</td>\n",
       "      <td>NaN</td>\n",
       "      <td>NaN</td>\n",
       "      <td>WK0</td>\n",
       "      <td>1.5</td>\n",
       "      <td>...</td>\n",
       "      <td>NaN</td>\n",
       "      <td>NaN</td>\n",
       "      <td>NaN</td>\n",
       "      <td>NaN</td>\n",
       "      <td>NaN</td>\n",
       "      <td>NaN</td>\n",
       "      <td>NaN</td>\n",
       "      <td>NaN</td>\n",
       "      <td>NaN</td>\n",
       "      <td>NaN</td>\n",
       "    </tr>\n",
       "    <tr>\n",
       "      <th>7810</th>\n",
       "      <td>AV2_291001</td>\n",
       "      <td>NaN</td>\n",
       "      <td>45.0</td>\n",
       "      <td>37.9</td>\n",
       "      <td>NaN</td>\n",
       "      <td>F</td>\n",
       "      <td>NaN</td>\n",
       "      <td>NaN</td>\n",
       "      <td>WK0</td>\n",
       "      <td>2.0</td>\n",
       "      <td>...</td>\n",
       "      <td>NaN</td>\n",
       "      <td>NaN</td>\n",
       "      <td>NaN</td>\n",
       "      <td>NaN</td>\n",
       "      <td>NaN</td>\n",
       "      <td>NaN</td>\n",
       "      <td>NaN</td>\n",
       "      <td>NaN</td>\n",
       "      <td>NaN</td>\n",
       "      <td>NaN</td>\n",
       "    </tr>\n",
       "  </tbody>\n",
       "</table>\n",
       "<p>5 rows × 314 columns</p>\n",
       "</div>"
      ],
      "text/plain": [
       "         Subject Screening Number   Age   BMI Ethnicity_1 Gender Sequence  \\\n",
       "7806  AV2_291001              NaN  45.0  37.9         NaN      F      NaN   \n",
       "7807  AV2_291001              NaN  45.0  37.9         NaN      F      NaN   \n",
       "7808  AV2_291001              NaN  45.0  37.9         NaN      F      NaN   \n",
       "7809  AV2_291001              NaN  45.0  37.9         NaN      F      NaN   \n",
       "7810  AV2_291001              NaN  45.0  37.9         NaN      F      NaN   \n",
       "\n",
       "       Tx Visit Time  ... PAA3OH PAA4OH  PAAOCH  PPA3OCH4Oglc  PPA4OCH3Oglc  \\\n",
       "7806  NaN   WK0  0.0  ...    NaN    NaN     NaN           NaN           NaN   \n",
       "7807  NaN   WK0  0.5  ...    NaN    NaN     NaN           NaN           NaN   \n",
       "7808  NaN   WK0  1.0  ...    NaN    NaN     NaN           NaN           NaN   \n",
       "7809  NaN   WK0  1.5  ...    NaN    NaN     NaN           NaN           NaN   \n",
       "7810  NaN   WK0  2.0  ...    NaN    NaN     NaN           NaN           NaN   \n",
       "\n",
       "      PPA4OH PPAdiOH  PPAOCH Unnamed: 9 Unnamed: 10  \n",
       "7806     NaN     NaN     NaN        NaN         NaN  \n",
       "7807     NaN     NaN     NaN        NaN         NaN  \n",
       "7808     NaN     NaN     NaN        NaN         NaN  \n",
       "7809     NaN     NaN     NaN        NaN         NaN  \n",
       "7810     NaN     NaN     NaN        NaN         NaN  \n",
       "\n",
       "[5 rows x 314 columns]"
      ]
     },
     "execution_count": 5,
     "metadata": {},
     "output_type": "execute_result"
    }
   ],
   "source": [
    "'''Code snippet by Mike (changed)'''\n",
    "def filter_dataset(data,filter_name):\n",
    "    filtered_data = data[data.iloc[:, 0].fillna(\"\").astype(str).str.startswith(filter_name)]  # Filter based on the first column  \n",
    "    return filtered_data\n",
    "    \n",
    "# Example usage\n",
    "filter_name = \"AV2\"  # Replace with dataset name\n",
    "filtered_df = filter_dataset(df,filter_name)   # df is the dataframe or csv we loaded\n",
    "\n",
    "filtered_df.head()"
   ]
  },
  {
   "cell_type": "code",
   "execution_count": 6,
   "metadata": {},
   "outputs": [
    {
     "data": {
      "text/plain": [
       "(876, 314)"
      ]
     },
     "execution_count": 6,
     "metadata": {},
     "output_type": "execute_result"
    }
   ],
   "source": [
    "filtered_df.shape"
   ]
  },
  {
   "cell_type": "code",
   "execution_count": 7,
   "metadata": {},
   "outputs": [
    {
     "data": {
      "text/plain": [
       "Subject               0\n",
       "Screening Number    876\n",
       "Age                   0\n",
       "BMI                  15\n",
       "Ethnicity_1         876\n",
       "                   ... \n",
       "PPA4OH              876\n",
       "PPAdiOH             876\n",
       "PPAOCH              876\n",
       "Unnamed: 9          876\n",
       "Unnamed: 10         876\n",
       "Length: 314, dtype: int64"
      ]
     },
     "execution_count": 7,
     "metadata": {},
     "output_type": "execute_result"
    }
   ],
   "source": [
    "filtered_df.isnull().sum()"
   ]
  },
  {
   "cell_type": "markdown",
   "metadata": {},
   "source": [
    "### Remove Nulls"
   ]
  },
  {
   "cell_type": "code",
   "execution_count": 8,
   "metadata": {},
   "outputs": [
    {
     "name": "stdout",
     "output_type": "stream",
     "text": [
      "(876, 11)\n"
     ]
    }
   ],
   "source": [
    "\n",
    "def drop_columns_if_all_null(df,threshold=0.8):\n",
    "\n",
    "    # Calculate the percentage of null values in each column\n",
    "    null_percentages = df.isnull().mean()\n",
    "    # Get the column names where the null percentage exceeds the threshold\n",
    "    columns_to_drop = null_percentages[null_percentages >= threshold].index\n",
    "    # Drop the columns from the DataFrame\n",
    "    df_cleaned = df.drop(columns=columns_to_drop)\n",
    "\n",
    "    # # Drop columns where all values are null\n",
    "    # df_cleaned = df.dropna(axis=1, how='all')\n",
    "\n",
    "    # drop cols where all zero\n",
    "    zero_columns = df_cleaned.columns[(df_cleaned == 0).all()]\n",
    "    df_cleaned.drop(zero_columns, axis=1, inplace=True)\n",
    "\n",
    "    return df_cleaned\n",
    "\n",
    "# Drop columns with all null values\n",
    "df_cleaned = drop_columns_if_all_null(filtered_df,threshold=0.8)\n",
    "print(df_cleaned.shape)"
   ]
  },
  {
   "cell_type": "code",
   "execution_count": 9,
   "metadata": {},
   "outputs": [
    {
     "data": {
      "text/html": [
       "<div>\n",
       "<style scoped>\n",
       "    .dataframe tbody tr th:only-of-type {\n",
       "        vertical-align: middle;\n",
       "    }\n",
       "\n",
       "    .dataframe tbody tr th {\n",
       "        vertical-align: top;\n",
       "    }\n",
       "\n",
       "    .dataframe thead th {\n",
       "        text-align: right;\n",
       "    }\n",
       "</style>\n",
       "<table border=\"1\" class=\"dataframe\">\n",
       "  <thead>\n",
       "    <tr style=\"text-align: right;\">\n",
       "      <th></th>\n",
       "      <th>Age</th>\n",
       "      <th>Glc</th>\n",
       "      <th>BodyWt</th>\n",
       "      <th>Ins</th>\n",
       "    </tr>\n",
       "  </thead>\n",
       "  <tbody>\n",
       "    <tr>\n",
       "      <th>count</th>\n",
       "      <td>876.000000</td>\n",
       "      <td>830.000000</td>\n",
       "      <td>861.000000</td>\n",
       "      <td>830.000000</td>\n",
       "    </tr>\n",
       "    <tr>\n",
       "      <th>mean</th>\n",
       "      <td>42.164384</td>\n",
       "      <td>131.902446</td>\n",
       "      <td>93.567654</td>\n",
       "      <td>60.589470</td>\n",
       "    </tr>\n",
       "    <tr>\n",
       "      <th>std</th>\n",
       "      <td>11.473016</td>\n",
       "      <td>36.425792</td>\n",
       "      <td>15.951722</td>\n",
       "      <td>59.369062</td>\n",
       "    </tr>\n",
       "    <tr>\n",
       "      <th>min</th>\n",
       "      <td>25.000000</td>\n",
       "      <td>54.260000</td>\n",
       "      <td>63.100000</td>\n",
       "      <td>1.860000</td>\n",
       "    </tr>\n",
       "    <tr>\n",
       "      <th>25%</th>\n",
       "      <td>33.000000</td>\n",
       "      <td>103.957500</td>\n",
       "      <td>80.100000</td>\n",
       "      <td>11.872500</td>\n",
       "    </tr>\n",
       "    <tr>\n",
       "      <th>50%</th>\n",
       "      <td>41.000000</td>\n",
       "      <td>122.365000</td>\n",
       "      <td>93.200000</td>\n",
       "      <td>46.445000</td>\n",
       "    </tr>\n",
       "    <tr>\n",
       "      <th>75%</th>\n",
       "      <td>52.000000</td>\n",
       "      <td>156.812500</td>\n",
       "      <td>106.300000</td>\n",
       "      <td>85.182500</td>\n",
       "    </tr>\n",
       "    <tr>\n",
       "      <th>max</th>\n",
       "      <td>64.000000</td>\n",
       "      <td>292.130000</td>\n",
       "      <td>132.700000</td>\n",
       "      <td>378.960000</td>\n",
       "    </tr>\n",
       "  </tbody>\n",
       "</table>\n",
       "</div>"
      ],
      "text/plain": [
       "              Age         Glc      BodyWt         Ins\n",
       "count  876.000000  830.000000  861.000000  830.000000\n",
       "mean    42.164384  131.902446   93.567654   60.589470\n",
       "std     11.473016   36.425792   15.951722   59.369062\n",
       "min     25.000000   54.260000   63.100000    1.860000\n",
       "25%     33.000000  103.957500   80.100000   11.872500\n",
       "50%     41.000000  122.365000   93.200000   46.445000\n",
       "75%     52.000000  156.812500  106.300000   85.182500\n",
       "max     64.000000  292.130000  132.700000  378.960000"
      ]
     },
     "execution_count": 9,
     "metadata": {},
     "output_type": "execute_result"
    }
   ],
   "source": [
    "df_cleaned.describe()"
   ]
  },
  {
   "attachments": {},
   "cell_type": "markdown",
   "metadata": {},
   "source": [
    "### Label encode some columns"
   ]
  },
  {
   "cell_type": "code",
   "execution_count": 10,
   "metadata": {},
   "outputs": [],
   "source": [
    "# function to check unique values in each column and label encode them\n",
    "def check_unique_values(df):\n",
    "    for col in df.columns:\n",
    "        if df[col].nunique() < 10:\n",
    "            df[col] = le.fit_transform(df[col])\n",
    "\n",
    "    return df\n",
    "\n",
    "filtered_df_null_encoded = check_unique_values(df_cleaned)"
   ]
  },
  {
   "cell_type": "code",
   "execution_count": 11,
   "metadata": {},
   "outputs": [
    {
     "data": {
      "text/html": [
       "<div>\n",
       "<style scoped>\n",
       "    .dataframe tbody tr th:only-of-type {\n",
       "        vertical-align: middle;\n",
       "    }\n",
       "\n",
       "    .dataframe tbody tr th {\n",
       "        vertical-align: top;\n",
       "    }\n",
       "\n",
       "    .dataframe thead th {\n",
       "        text-align: right;\n",
       "    }\n",
       "</style>\n",
       "<table border=\"1\" class=\"dataframe\">\n",
       "  <thead>\n",
       "    <tr style=\"text-align: right;\">\n",
       "      <th></th>\n",
       "      <th>Subject</th>\n",
       "      <th>Age</th>\n",
       "      <th>BMI</th>\n",
       "      <th>Gender</th>\n",
       "      <th>Visit</th>\n",
       "      <th>Time</th>\n",
       "      <th>Glc</th>\n",
       "      <th>TX</th>\n",
       "      <th>Race</th>\n",
       "      <th>BodyWt</th>\n",
       "      <th>Ins</th>\n",
       "    </tr>\n",
       "  </thead>\n",
       "  <tbody>\n",
       "    <tr>\n",
       "      <th>7806</th>\n",
       "      <td>AV2_291001</td>\n",
       "      <td>45.0</td>\n",
       "      <td>37.9</td>\n",
       "      <td>0</td>\n",
       "      <td>0</td>\n",
       "      <td>0.0</td>\n",
       "      <td>106.69</td>\n",
       "      <td>1</td>\n",
       "      <td>0</td>\n",
       "      <td>106.3</td>\n",
       "      <td>13.00</td>\n",
       "    </tr>\n",
       "    <tr>\n",
       "      <th>7807</th>\n",
       "      <td>AV2_291001</td>\n",
       "      <td>45.0</td>\n",
       "      <td>37.9</td>\n",
       "      <td>0</td>\n",
       "      <td>0</td>\n",
       "      <td>0.5</td>\n",
       "      <td>157.41</td>\n",
       "      <td>1</td>\n",
       "      <td>0</td>\n",
       "      <td>106.3</td>\n",
       "      <td>82.74</td>\n",
       "    </tr>\n",
       "    <tr>\n",
       "      <th>7808</th>\n",
       "      <td>AV2_291001</td>\n",
       "      <td>45.0</td>\n",
       "      <td>37.9</td>\n",
       "      <td>0</td>\n",
       "      <td>0</td>\n",
       "      <td>1.0</td>\n",
       "      <td>159.19</td>\n",
       "      <td>1</td>\n",
       "      <td>0</td>\n",
       "      <td>106.3</td>\n",
       "      <td>120.36</td>\n",
       "    </tr>\n",
       "    <tr>\n",
       "      <th>7809</th>\n",
       "      <td>AV2_291001</td>\n",
       "      <td>45.0</td>\n",
       "      <td>37.9</td>\n",
       "      <td>0</td>\n",
       "      <td>0</td>\n",
       "      <td>1.5</td>\n",
       "      <td>111.06</td>\n",
       "      <td>1</td>\n",
       "      <td>0</td>\n",
       "      <td>106.3</td>\n",
       "      <td>79.46</td>\n",
       "    </tr>\n",
       "    <tr>\n",
       "      <th>7810</th>\n",
       "      <td>AV2_291001</td>\n",
       "      <td>45.0</td>\n",
       "      <td>37.9</td>\n",
       "      <td>0</td>\n",
       "      <td>0</td>\n",
       "      <td>2.0</td>\n",
       "      <td>112.34</td>\n",
       "      <td>1</td>\n",
       "      <td>0</td>\n",
       "      <td>106.3</td>\n",
       "      <td>44.20</td>\n",
       "    </tr>\n",
       "  </tbody>\n",
       "</table>\n",
       "</div>"
      ],
      "text/plain": [
       "         Subject   Age   BMI  Gender  Visit Time     Glc  TX  Race  BodyWt  \\\n",
       "7806  AV2_291001  45.0  37.9       0      0  0.0  106.69   1     0   106.3   \n",
       "7807  AV2_291001  45.0  37.9       0      0  0.5  157.41   1     0   106.3   \n",
       "7808  AV2_291001  45.0  37.9       0      0  1.0  159.19   1     0   106.3   \n",
       "7809  AV2_291001  45.0  37.9       0      0  1.5  111.06   1     0   106.3   \n",
       "7810  AV2_291001  45.0  37.9       0      0  2.0  112.34   1     0   106.3   \n",
       "\n",
       "         Ins  \n",
       "7806   13.00  \n",
       "7807   82.74  \n",
       "7808  120.36  \n",
       "7809   79.46  \n",
       "7810   44.20  "
      ]
     },
     "execution_count": 11,
     "metadata": {},
     "output_type": "execute_result"
    }
   ],
   "source": [
    "filtered_df_null_encoded.head()"
   ]
  },
  {
   "cell_type": "markdown",
   "metadata": {},
   "source": [
    "### Drop some columns"
   ]
  },
  {
   "cell_type": "code",
   "execution_count": 12,
   "metadata": {},
   "outputs": [
    {
     "data": {
      "text/plain": [
       "(876, 9)"
      ]
     },
     "execution_count": 12,
     "metadata": {},
     "output_type": "execute_result"
    }
   ],
   "source": [
    "# norm_df = filtered_df_null_encoded.drop(['Subject','Time','ScreenDate','consent date ','ScreenID'], axis=1)\n",
    "norm_df = filtered_df_null_encoded.drop(['Subject','Time'], axis=1)\n",
    "norm_df.shape"
   ]
  },
  {
   "cell_type": "markdown",
   "metadata": {},
   "source": [
    "### Fix data type inconsistency"
   ]
  },
  {
   "cell_type": "code",
   "execution_count": null,
   "metadata": {},
   "outputs": [],
   "source": []
  },
  {
   "cell_type": "markdown",
   "metadata": {},
   "source": [
    "### imputations"
   ]
  },
  {
   "cell_type": "code",
   "execution_count": 13,
   "metadata": {},
   "outputs": [
    {
     "name": "stdout",
     "output_type": "stream",
     "text": [
      "Age 0\n",
      "BMI 15\n",
      "Gender 0\n",
      "Visit 0\n",
      "Glc 46\n",
      "TX 0\n",
      "Race 0\n",
      "BodyWt 15\n",
      "Ins 46\n"
     ]
    }
   ],
   "source": [
    "for cols in norm_df.columns:\n",
    "    print(cols,norm_df[cols].isnull().sum())\n"
   ]
  },
  {
   "cell_type": "code",
   "execution_count": 14,
   "metadata": {},
   "outputs": [],
   "source": [
    "norm_df = norm_df.drop(['BMI','Glc','BodyWt','Ins'], axis=1)"
   ]
  },
  {
   "attachments": {},
   "cell_type": "markdown",
   "metadata": {},
   "source": [
    "### Normalize"
   ]
  },
  {
   "cell_type": "code",
   "execution_count": 15,
   "metadata": {},
   "outputs": [],
   "source": [
    "def normalize_numeric_columns(df):\n",
    "    numeric_cols = df.select_dtypes(include=['int64', 'float64']).columns\n",
    "    \n",
    "    # Normalize numeric columns\n",
    "    df[numeric_cols] = (df[numeric_cols] - df[numeric_cols].min()) / (df[numeric_cols].max() - df[numeric_cols].min())\n",
    "    \n",
    "    return df\n",
    "\n",
    "normalized_df = normalize_numeric_columns(norm_df)\n"
   ]
  },
  {
   "cell_type": "code",
   "execution_count": 16,
   "metadata": {},
   "outputs": [
    {
     "data": {
      "text/plain": [
       "(876, 5)"
      ]
     },
     "execution_count": 16,
     "metadata": {},
     "output_type": "execute_result"
    }
   ],
   "source": [
    "normalized_df.shape"
   ]
  },
  {
   "cell_type": "code",
   "execution_count": 17,
   "metadata": {},
   "outputs": [
    {
     "data": {
      "text/html": [
       "<div>\n",
       "<style scoped>\n",
       "    .dataframe tbody tr th:only-of-type {\n",
       "        vertical-align: middle;\n",
       "    }\n",
       "\n",
       "    .dataframe tbody tr th {\n",
       "        vertical-align: top;\n",
       "    }\n",
       "\n",
       "    .dataframe thead th {\n",
       "        text-align: right;\n",
       "    }\n",
       "</style>\n",
       "<table border=\"1\" class=\"dataframe\">\n",
       "  <thead>\n",
       "    <tr style=\"text-align: right;\">\n",
       "      <th></th>\n",
       "      <th>Age</th>\n",
       "      <th>Gender</th>\n",
       "      <th>Visit</th>\n",
       "      <th>TX</th>\n",
       "      <th>Race</th>\n",
       "    </tr>\n",
       "  </thead>\n",
       "  <tbody>\n",
       "    <tr>\n",
       "      <th>7806</th>\n",
       "      <td>0.512821</td>\n",
       "      <td>0</td>\n",
       "      <td>0</td>\n",
       "      <td>1</td>\n",
       "      <td>0</td>\n",
       "    </tr>\n",
       "    <tr>\n",
       "      <th>7807</th>\n",
       "      <td>0.512821</td>\n",
       "      <td>0</td>\n",
       "      <td>0</td>\n",
       "      <td>1</td>\n",
       "      <td>0</td>\n",
       "    </tr>\n",
       "    <tr>\n",
       "      <th>7808</th>\n",
       "      <td>0.512821</td>\n",
       "      <td>0</td>\n",
       "      <td>0</td>\n",
       "      <td>1</td>\n",
       "      <td>0</td>\n",
       "    </tr>\n",
       "    <tr>\n",
       "      <th>7809</th>\n",
       "      <td>0.512821</td>\n",
       "      <td>0</td>\n",
       "      <td>0</td>\n",
       "      <td>1</td>\n",
       "      <td>0</td>\n",
       "    </tr>\n",
       "    <tr>\n",
       "      <th>7810</th>\n",
       "      <td>0.512821</td>\n",
       "      <td>0</td>\n",
       "      <td>0</td>\n",
       "      <td>1</td>\n",
       "      <td>0</td>\n",
       "    </tr>\n",
       "  </tbody>\n",
       "</table>\n",
       "</div>"
      ],
      "text/plain": [
       "           Age  Gender  Visit  TX  Race\n",
       "7806  0.512821       0      0   1     0\n",
       "7807  0.512821       0      0   1     0\n",
       "7808  0.512821       0      0   1     0\n",
       "7809  0.512821       0      0   1     0\n",
       "7810  0.512821       0      0   1     0"
      ]
     },
     "execution_count": 17,
     "metadata": {},
     "output_type": "execute_result"
    }
   ],
   "source": [
    "normalized_df.head()"
   ]
  },
  {
   "attachments": {},
   "cell_type": "markdown",
   "metadata": {},
   "source": [
    "## Correlation matrix"
   ]
  },
  {
   "cell_type": "code",
   "execution_count": 18,
   "metadata": {},
   "outputs": [
    {
     "data": {
      "image/png": "[encoded data removed]",
      "text/plain": [
       "<Figure size 2000x1800 with 2 Axes>"
      ]
     },
     "metadata": {},
     "output_type": "display_data"
    }
   ],
   "source": [
    "# function to calculate correlation matrix and plot it\n",
    "def visualize_correlation_matrix(correlation_matrix):\n",
    "    # Create a heatmap using seaborn\n",
    "    plt.figure(figsize=(20, 18))\n",
    "    sns.heatmap(correlation_matrix, annot=True, cmap=\"coolwarm\", linewidths=0.5)\n",
    "    plt.title(\"Correlation Matrix\")\n",
    "    plt.show()\n",
    "\n",
    "# Calculate correlation matrix\n",
    "correlation_matrix = normalized_df.corr()\n",
    "# visualize\n",
    "visualize_correlation_matrix(correlation_matrix)\n"
   ]
  },
  {
   "cell_type": "markdown",
   "metadata": {},
   "source": [
    "### identify strong correlations"
   ]
  },
  {
   "cell_type": "code",
   "execution_count": 19,
   "metadata": {},
   "outputs": [
    {
     "data": {
      "text/html": [
       "<div>\n",
       "<style scoped>\n",
       "    .dataframe tbody tr th:only-of-type {\n",
       "        vertical-align: middle;\n",
       "    }\n",
       "\n",
       "    .dataframe tbody tr th {\n",
       "        vertical-align: top;\n",
       "    }\n",
       "\n",
       "    .dataframe thead th {\n",
       "        text-align: right;\n",
       "    }\n",
       "</style>\n",
       "<table border=\"1\" class=\"dataframe\">\n",
       "  <thead>\n",
       "    <tr style=\"text-align: right;\">\n",
       "      <th></th>\n",
       "      <th>feature1</th>\n",
       "      <th>feature2</th>\n",
       "      <th>correlation</th>\n",
       "    </tr>\n",
       "  </thead>\n",
       "  <tbody>\n",
       "  </tbody>\n",
       "</table>\n",
       "</div>"
      ],
      "text/plain": [
       "Empty DataFrame\n",
       "Columns: [feature1, feature2, correlation]\n",
       "Index: []"
      ]
     },
     "execution_count": 19,
     "metadata": {},
     "output_type": "execute_result"
    }
   ],
   "source": [
    "def identify_strong_correlations(correlation_matrix, threshold=0.7):\n",
    "    # Find the indices of strongly correlated features\n",
    "    n_features = correlation_matrix.shape[0]\n",
    "    strongly_correlated = []\n",
    "    \n",
    "    for i in range(n_features):\n",
    "        for j in range(i+1, n_features):\n",
    "            if abs(correlation_matrix.iloc[i, j]) >= threshold:\n",
    "                strongly_correlated.append((correlation_matrix.index[i], correlation_matrix.columns[j], correlation_matrix.iloc[i, j]))\n",
    "    \n",
    "    return strongly_correlated\n",
    "\n",
    "# Set a correlation threshold\n",
    "threshold = 0.5\n",
    "\n",
    "# Find strongly correlated features\n",
    "strong_correlations = identify_strong_correlations(correlation_matrix, threshold)\n",
    "strong_correlations_df = pd.DataFrame(strong_correlations, columns=['feature1','feature2','correlation'])\n",
    "strong_correlations_df\n"
   ]
  },
  {
   "cell_type": "markdown",
   "metadata": {},
   "source": [
    "### Perform Spearman correlations"
   ]
  },
  {
   "cell_type": "code",
   "execution_count": 20,
   "metadata": {},
   "outputs": [
    {
     "data": {
      "image/png": "[encoded data removed]",
      "text/plain": [
       "<Figure size 2000x1800 with 2 Axes>"
      ]
     },
     "metadata": {},
     "output_type": "display_data"
    }
   ],
   "source": [
    "def calculate_spearman_correlation(df):\n",
    "    # Calculate the Spearman correlation matrix\n",
    "    spearman_corr_matrix = df.corr(method='spearman')\n",
    "    \n",
    "    return spearman_corr_matrix\n",
    "\n",
    "spearman_corr_matrix = calculate_spearman_correlation(normalized_df)\n",
    "\n",
    "# visualize\n",
    "visualize_correlation_matrix(spearman_corr_matrix)"
   ]
  },
  {
   "cell_type": "code",
   "execution_count": 21,
   "metadata": {},
   "outputs": [
    {
     "data": {
      "text/html": [
       "<div>\n",
       "<style scoped>\n",
       "    .dataframe tbody tr th:only-of-type {\n",
       "        vertical-align: middle;\n",
       "    }\n",
       "\n",
       "    .dataframe tbody tr th {\n",
       "        vertical-align: top;\n",
       "    }\n",
       "\n",
       "    .dataframe thead th {\n",
       "        text-align: right;\n",
       "    }\n",
       "</style>\n",
       "<table border=\"1\" class=\"dataframe\">\n",
       "  <thead>\n",
       "    <tr style=\"text-align: right;\">\n",
       "      <th></th>\n",
       "      <th>feature1_spear</th>\n",
       "      <th>feature2_spear</th>\n",
       "      <th>correlation</th>\n",
       "    </tr>\n",
       "  </thead>\n",
       "  <tbody>\n",
       "  </tbody>\n",
       "</table>\n",
       "</div>"
      ],
      "text/plain": [
       "Empty DataFrame\n",
       "Columns: [feature1_spear, feature2_spear, correlation]\n",
       "Index: []"
      ]
     },
     "execution_count": 21,
     "metadata": {},
     "output_type": "execute_result"
    }
   ],
   "source": [
    "# Find strongly correlated features in spearman\n",
    "strong_correlations = identify_strong_correlations(spearman_corr_matrix, threshold)\n",
    "strong_correlations_df = pd.DataFrame(strong_correlations, columns=['feature1_spear','feature2_spear','correlation'])\n",
    "strong_correlations_df\n"
   ]
  },
  {
   "cell_type": "markdown",
   "metadata": {},
   "source": [
    "## t-SNE\n",
    "The primary purpose of t-SNE is to map each data point from its original high-dimensional space to a lower-dimensional (usually 2D or 3D) space while preserving the local and global structure of the data. It achieves this by measuring pairwise similarities between data points "
   ]
  },
  {
   "cell_type": "code",
   "execution_count": 22,
   "metadata": {},
   "outputs": [
    {
     "name": "stderr",
     "output_type": "stream",
     "text": [
      "d:\\softwares\\miniconda\\envs\\DEEPLABCUT\\lib\\site-packages\\sklearn\\manifold\\_t_sne.py:800: FutureWarning: The default initialization in TSNE will change from 'random' to 'pca' in 1.2.\n",
      "  warnings.warn(\n"
     ]
    },
    {
     "data": {
      "image/png": "[encoded data removed]",
      "text/plain": [
       "<Figure size 640x480 with 1 Axes>"
      ]
     },
     "metadata": {},
     "output_type": "display_data"
    }
   ],
   "source": [
    "\n",
    "\n",
    "def apply_tsne(df, target_col=None, perplexity=30, learning_rate=200, n_iter=1000, random_state=None):\n",
    "\n",
    "    # Extract the target column (if provided)\n",
    "    if target_col is not None:\n",
    "        y = df[target_col].values\n",
    "        df = df.drop(columns=[target_col])\n",
    "    else:\n",
    "        y = None\n",
    "\n",
    "    # Apply t-SNE transformation\n",
    "    tsne = TSNE(n_components=2, perplexity=perplexity, learning_rate=learning_rate, n_iter=n_iter, random_state=random_state)\n",
    "    tsne_result = tsne.fit_transform(df)\n",
    "\n",
    "    # Create a new DataFrame with the t-SNE transformed data and the target column (if provided)\n",
    "    tsne_df = pd.DataFrame(tsne_result, columns=[\"t-SNE Component 1\", \"t-SNE Component 2\"])\n",
    "    if target_col is not None:\n",
    "        tsne_df[target_col] = y\n",
    "\n",
    "    return tsne_df\n",
    "\n",
    "\n",
    "tsne_result = apply_tsne(normalized_df, target_col='Gender', perplexity=40, learning_rate=200, n_iter=1000, random_state=42)\n",
    "plt.scatter(tsne_result[\"t-SNE Component 1\"], tsne_result[\"t-SNE Component 2\"], c=tsne_result[\"Gender\"])\n",
    "\n",
    "plt.xlabel('t-SNE Component 1')\n",
    "plt.ylabel('t-SNE Component 2')\n",
    "plt.title('t-SNE')\n",
    "plt.show()\n"
   ]
  },
  {
   "cell_type": "code",
   "execution_count": 23,
   "metadata": {},
   "outputs": [
    {
     "data": {
      "text/html": [
       "<div>\n",
       "<style scoped>\n",
       "    .dataframe tbody tr th:only-of-type {\n",
       "        vertical-align: middle;\n",
       "    }\n",
       "\n",
       "    .dataframe tbody tr th {\n",
       "        vertical-align: top;\n",
       "    }\n",
       "\n",
       "    .dataframe thead th {\n",
       "        text-align: right;\n",
       "    }\n",
       "</style>\n",
       "<table border=\"1\" class=\"dataframe\">\n",
       "  <thead>\n",
       "    <tr style=\"text-align: right;\">\n",
       "      <th></th>\n",
       "      <th>t-SNE Component 1</th>\n",
       "      <th>t-SNE Component 2</th>\n",
       "      <th>Gender</th>\n",
       "    </tr>\n",
       "  </thead>\n",
       "  <tbody>\n",
       "    <tr>\n",
       "      <th>0</th>\n",
       "      <td>-6.648681</td>\n",
       "      <td>-32.067924</td>\n",
       "      <td>0</td>\n",
       "    </tr>\n",
       "    <tr>\n",
       "      <th>1</th>\n",
       "      <td>-6.648681</td>\n",
       "      <td>-32.067924</td>\n",
       "      <td>0</td>\n",
       "    </tr>\n",
       "    <tr>\n",
       "      <th>2</th>\n",
       "      <td>-6.648681</td>\n",
       "      <td>-32.067924</td>\n",
       "      <td>0</td>\n",
       "    </tr>\n",
       "    <tr>\n",
       "      <th>3</th>\n",
       "      <td>-6.648681</td>\n",
       "      <td>-32.067924</td>\n",
       "      <td>0</td>\n",
       "    </tr>\n",
       "    <tr>\n",
       "      <th>4</th>\n",
       "      <td>-6.992335</td>\n",
       "      <td>-32.842377</td>\n",
       "      <td>0</td>\n",
       "    </tr>\n",
       "  </tbody>\n",
       "</table>\n",
       "</div>"
      ],
      "text/plain": [
       "   t-SNE Component 1  t-SNE Component 2  Gender\n",
       "0          -6.648681         -32.067924       0\n",
       "1          -6.648681         -32.067924       0\n",
       "2          -6.648681         -32.067924       0\n",
       "3          -6.648681         -32.067924       0\n",
       "4          -6.992335         -32.842377       0"
      ]
     },
     "execution_count": 23,
     "metadata": {},
     "output_type": "execute_result"
    }
   ],
   "source": [
    "tsne_result.head()"
   ]
  },
  {
   "cell_type": "code",
   "execution_count": 24,
   "metadata": {},
   "outputs": [],
   "source": [
    "one = tsne_result['t-SNE Component 1'].values.tolist()\n",
    "two = tsne_result['t-SNE Component 2'].values.tolist()\n",
    "normalized_df['t-SNE Component 1'] = one\n",
    "normalized_df['t-SNE Component 2'] = two"
   ]
  },
  {
   "cell_type": "markdown",
   "metadata": {},
   "source": [
    "### K means clustering"
   ]
  },
  {
   "cell_type": "code",
   "execution_count": 25,
   "metadata": {},
   "outputs": [
    {
     "name": "stdout",
     "output_type": "stream",
     "text": [
      "['t-SNE Component 1', 't-SNE Component 2', 'Visit', 'Race', 'Gender', 'TX', 'Age']\n"
     ]
    }
   ],
   "source": [
    "def select_most_important_features(df, num_clusters=5, num_features=3):\n",
    "    # Assuming you have added t-SNE components to the DataFrame as 't-SNE Component 1' and 't-SNE Component 2'\n",
    "    tsne_components = df[['t-SNE Component 1', 't-SNE Component 2']]\n",
    "\n",
    "    # Perform K-means clustering on t-SNE components\n",
    "    kmeans = KMeans(n_clusters=num_clusters, random_state=42)\n",
    "    df['Cluster'] = kmeans.fit_predict(tsne_components)\n",
    "\n",
    "    # Group DataFrame by cluster labels\n",
    "    grouped_data = df.groupby('Cluster')\n",
    "\n",
    "    # Calculate feature importance (variance in this example)\n",
    "    feature_importance = grouped_data.var()\n",
    "\n",
    "    # Select the most important features based on variance\n",
    "    most_important_features = feature_importance.mean().nlargest(num_features).index.tolist()\n",
    "\n",
    "    return most_important_features\n",
    "\n",
    "\n",
    "selected_features = select_most_important_features(normalized_df, num_clusters=6, num_features=10)\n",
    "print(selected_features)\n"
   ]
  }
 ],
 "metadata": {
  "kernelspec": {
   "display_name": "DEEPLABCUT",
   "language": "python",
   "name": "python3"
  },
  "language_info": {
   "codemirror_mode": {
    "name": "ipython",
    "version": 3
   },
   "file_extension": ".py",
   "mimetype": "text/x-python",
   "name": "python",
   "nbconvert_exporter": "python",
   "pygments_lexer": "ipython3",
   "version": "3.8.15"
  },
  "orig_nbformat": 4
 },
 "nbformat": 4,
 "nbformat_minor": 2
}
